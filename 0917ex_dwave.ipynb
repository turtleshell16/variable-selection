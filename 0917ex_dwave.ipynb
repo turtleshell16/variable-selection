{
 "cells": [
  {
   "cell_type": "code",
   "execution_count": 1,
   "id": "947aed16",
   "metadata": {},
   "outputs": [],
   "source": [
    "from dimod import ConstrainedQuadraticModel, Integer\n",
    "from dwave.system import LeapHybridCQMSampler\n",
    "import easydict\n",
    "import kqc_custom\n",
    "from sklearn.linear_model import LinearRegression\n",
    "import pandas as pd\n",
    "import numpy as np\n",
    "import matplotlib.pyplot as plt\n",
    "import seaborn as sns"
   ]
  },
  {
   "cell_type": "code",
   "execution_count": 2,
   "id": "86b88a27",
   "metadata": {},
   "outputs": [],
   "source": [
    "args = easydict.EasyDict()\n",
    "# my_api_token = TOKEN\n",
    "my_api_token = \"DEV-8be99a69b1c9b92319d76a12d5c8b4fde79963b4\"\n",
    "args['token'] = \"DEV-8be99a69b1c9b92319d76a12d5c8b4fde79963b4\"\n",
    "sampler = LeapHybridCQMSampler(token = args['token'])"
   ]
  },
  {
   "cell_type": "code",
   "execution_count": 3,
   "id": "3bf89cd5",
   "metadata": {},
   "outputs": [],
   "source": [
    "def projection(X):\n",
    "    xtx = np.matmul(X.T,X)\n",
    "    xtxinv = np.linalg.inv(xtx)\n",
    "    proj = np.matmul(np.matmul(X,xtxinv),X.T)\n",
    "    return(proj)\n",
    "\n",
    "def partial_r1(X,y):\n",
    "    X = np.asarray(X);y=np.asarray(y).reshape((-1))\n",
    "    n = X.shape[0]\n",
    "    X_temp = pd.DataFrame(np.ones((n,1))); X = pd.DataFrame(X)\n",
    "    X_temp = np.asarray(pd.concat([X_temp,X],axis=1))\n",
    "    q=X_temp.shape[1]\n",
    "    y = y-np.mean(y)\n",
    "    partial_r_list = []\n",
    "    SSRF = np.matmul(np.matmul(y.T,(np.identity(n)-projection(X_temp))),y)\n",
    "    for i in range(1,q):\n",
    "        ind = [i for i in range(i)] + [i for i in range(i+1,q)]\n",
    "        SSRR = np.matmul(np.matmul(y.T,(np.identity(n)-projection(X_temp[:,ind]))),y)\n",
    "        partial_r_list += [1-SSRF/SSRR]\n",
    "    return(np.array(partial_r_list))\n",
    "def partial_r2(X,y):\n",
    "    n = X.shape[0]\n",
    "    X_temp = pd.DataFrame(np.ones((n,1))); X = pd.DataFrame(X)\n",
    "    X_temp = np.asarray(pd.concat([X_temp,X],axis=1)) ; y = np.asarray(y)\n",
    "    p=X_temp.shape[1]\n",
    "    y = y-np.mean(y)\n",
    "    partial_r_list = []\n",
    "    SSRF = np.matmul(np.matmul(y.T,(np.identity(n)-projection(X_temp))),y)\n",
    "    for i in range(1,p):\n",
    "        SSRR = np.matmul(np.matmul(y.T,(np.identity(n)-projection(X_temp[:,[0,i]]))),y)\n",
    "        partial_r_list += [SSRF/SSRR]\n",
    "        \n",
    "def mse(X,y):\n",
    "    q = X.shape[0]\n",
    "    xtx = np.matmul(X.T,X)\n",
    "    xtxinv = np.linalg.inv(xtx)\n",
    "    proj = np.matmul(np.matmul(X,xtxinv),X.T)\n",
    "    mse = np.matmul(np.matmul(y.T,(np.identity(q)-proj)),y)/q\n",
    "    return(mse)\n",
    "\n",
    "def cn(X): \n",
    "    if X.shape[1]==1 : return(1)\n",
    "    cordata = np.corrcoef(X.T)\n",
    "    eig_value = np.linalg.eig(cordata)[0]\n",
    "    return(np.max(eig_value)/np.min(eig_value))"
   ]
  },
  {
   "cell_type": "code",
   "execution_count": 4,
   "id": "0b7038c9",
   "metadata": {},
   "outputs": [],
   "source": [
    "# 함수화\n",
    "# 결과물 : Full, True, Dwave boxplot 의 mse 비교, aic 비교, cn 비교\n",
    "# 1. dwave 함수\n",
    "def dwave(x,y):\n",
    "    data_x = pd.DataFrame(x)\n",
    "    data_y = pd.DataFrame(y)\n",
    "    p = data_x.shape[1]\n",
    "    Q = np.abs(data_x.corr())\n",
    "    beta = -Q.apply(sum)\n",
    "    for i in range(p) : \n",
    "        Q.iloc[i,i] = 0 \n",
    "        r_squared_list = []\n",
    "        names = []\n",
    "        for i in range( len(data_x.columns )) :\n",
    "            names.append(\"x\"+str(i))\n",
    "        data_x.columns = names    \n",
    "            \n",
    "    beta2 = -Q.apply(sum)\n",
    "    beta2_with_r2 = beta2 - partial_r1(x,y)\n",
    "    B=beta2_with_r2\n",
    "    integer_list = []\n",
    "    for i in range(10):\n",
    "        integer_list.append(Integer(str(\"x\")+str(\"0\")+str(\"0\")+str(i), upper_bound=1,lower_bound=0))\n",
    "    for i in range(10,100) :\n",
    "        integer_list.append(Integer(str(\"x\")+str(\"0\")+str(i), upper_bound=1,lower_bound=0))\n",
    "    for i in range(100,p) :\n",
    "        integer_list.append(Integer(str(\"x\")+str(i), upper_bound=1,lower_bound=0))\n",
    "        \n",
    "    linear_qubo = B[0]*integer_list[0]*0\n",
    "    for i in range(p): \n",
    "        linear_qubo = linear_qubo + B[i]*integer_list[i]\n",
    "    \n",
    "    quadratic_qubo = Q[0][0]*integer_list[0]*integer_list[0]*0\n",
    "    for j in range(p):\n",
    "        for i in range(p):\n",
    "            quadratic_qubo= quadratic_qubo+Q[i][j]*integer_list[i]*integer_list[j]\n",
    "    \n",
    "    Qubo = linear_qubo + quadratic_qubo\n",
    "    cqm= ConstrainedQuadraticModel()\n",
    "    cqm.set_objective(Qubo)\n",
    "    sampleset = sampler.sample_cqm(cqm)\n",
    "    \n",
    "    result = sampleset.first[0]\n",
    "    result_list=list(zip(result.keys(), result.values()))\n",
    "    \n",
    "    data_x_result=pd.DataFrame(result_list).T.loc[[1]]\n",
    "    names = []\n",
    "    for i in range( len(data_x_result.columns )) :\n",
    "        names.append(\"x\"+str(i))\n",
    "    data_x_result.columns = names  \n",
    "    data_y.columns = [\"y\"]\n",
    "    \n",
    "    data_x_result.index = [\"Selection\"]\n",
    "    data_x_result=pd.to_numeric(data_x_result.T[\"Selection\"])\n",
    "    \n",
    "    concat_x = pd.concat([pd.DataFrame(data_x_result).T, data_x], axis = 0)\n",
    "    concat_x_one=concat_x.T[concat_x.T[\"Selection\"]==1].T\n",
    "    data_x_one =concat_x_one.loc[0:,:]\n",
    "    \n",
    "    \n",
    "    mse_result=mse( np.array(data_x_one) ,np.array(data_y))\n",
    "    aic_result = (len(data_x_one)* np.log(mse_result) - 10 *np.log(len(data_x_one)) + 2* len(data_x_one.columns))\n",
    "    cn_result = cn(data_x_one)\n",
    "    return result, mse_result, aic_result, cn_result"
   ]
  },
  {
   "cell_type": "code",
   "execution_count": 5,
   "id": "4d8fedc2",
   "metadata": {},
   "outputs": [],
   "source": [
    "def full(x,y):\n",
    "    data_x = pd.DataFrame(x)\n",
    "    data_y = pd.DataFrame(y)\n",
    "    mse_result=mse( np.array(data_x) ,np.array(data_y))\n",
    "    aic_result = (len(data_x)* np.log(mse_result) - 10 *np.log(len(data_x)) + 2* len(data_x.columns))\n",
    "    cn_result = cn(data_x)\n",
    "    \n",
    "    return mse_result, aic_result, cn_result"
   ]
  },
  {
   "cell_type": "code",
   "execution_count": 14,
   "id": "edbed64e",
   "metadata": {},
   "outputs": [],
   "source": [
    "def random(x,y):\n",
    "    # 랜덤 추출\n",
    "\n",
    "    data_x = pd.DataFrame(x)\n",
    "    data_y = pd.DataFrame(y)\n",
    "    p = data_x.shape[1]\n",
    "    random_list=pd.DataFrame(np.random.binomial(n=1, p=0.5, size=p)).T\n",
    "    random_list.index = [\"Selection\"]\n",
    "    data_x=pd.concat([random_list,data_x])\n",
    "    \n",
    "    names = []\n",
    "    for i in range( len(data_x.columns )) :\n",
    "        names.append(\"x\"+str(i))\n",
    "    data_x.columns = names  \n",
    "    data_y.columns = [\"y\"]\n",
    "    \n",
    "    data_x_one= data_x.T[data_x.T[\"Selection\"]==1].T[1:]\n",
    "    mse_result=mse( np.array(data_x_one) ,np.array(data_y))\n",
    "    aic_result = (len(data_x_one)* np.log(mse_result) - 10 *np.log(len(data_x_one)) + 2* len(data_x_one.columns))\n",
    "    cn_result = cn(data_x_one)    \n",
    "    return mse_result, aic_result, cn_result"
   ]
  },
  {
   "cell_type": "code",
   "execution_count": 398,
   "id": "77b5d930",
   "metadata": {},
   "outputs": [],
   "source": [
    "#### Data 1 \n",
    "x1,y1 = kqc_custom.generate_dependent_sample(500,200,beta_coef=[5,5,5,5,5,5,5,5,5,5],epsilon = 10,covariance_parameter=100)"
   ]
  },
  {
   "cell_type": "code",
   "execution_count": 399,
   "id": "352e4ae8",
   "metadata": {},
   "outputs": [
    {
     "data": {
      "text/plain": [
       "296824.77280980686"
      ]
     },
     "execution_count": 399,
     "metadata": {},
     "output_type": "execute_result"
    }
   ],
   "source": [
    "cn(x1)"
   ]
  },
  {
   "cell_type": "code",
   "execution_count": null,
   "id": "883789fc",
   "metadata": {},
   "outputs": [],
   "source": [
    "cn(x1[:,:100])"
   ]
  },
  {
   "cell_type": "code",
   "execution_count": 405,
   "id": "815dad49",
   "metadata": {},
   "outputs": [
    {
     "name": "stderr",
     "output_type": "stream",
     "text": [
      "C:\\Users\\user\\anaconda3\\lib\\site-packages\\pandas\\core\\internals\\construction.py:540: VisibleDeprecationWarning: Creating an ndarray from ragged nested sequences (which is a list-or-tuple of lists-or-tuples-or ndarrays with different lengths or shapes) is deprecated. If you meant to do this, you must specify 'dtype=object' when creating the ndarray.\n",
      "  values = np.array([convert(v) for v in values])\n"
     ]
    },
    {
     "ename": "PermissionError",
     "evalue": "[Errno 13] Permission denied: 'data_x1_dwave.xlsx'",
     "output_type": "error",
     "traceback": [
      "\u001b[1;31m---------------------------------------------------------------------------\u001b[0m",
      "\u001b[1;31mPermissionError\u001b[0m                           Traceback (most recent call last)",
      "\u001b[1;32m~\\AppData\\Local\\Temp/ipykernel_18440/2524220839.py\u001b[0m in \u001b[0;36m<module>\u001b[1;34m\u001b[0m\n\u001b[0;32m      6\u001b[0m \u001b[0mpd\u001b[0m\u001b[1;33m.\u001b[0m\u001b[0mDataFrame\u001b[0m\u001b[1;33m(\u001b[0m\u001b[0mtrue_1\u001b[0m\u001b[1;33m)\u001b[0m\u001b[1;33m.\u001b[0m\u001b[0mto_excel\u001b[0m\u001b[1;33m(\u001b[0m\u001b[1;34m'data_x1_true.xlsx'\u001b[0m\u001b[1;33m)\u001b[0m\u001b[1;33m\u001b[0m\u001b[1;33m\u001b[0m\u001b[0m\n\u001b[0;32m      7\u001b[0m \u001b[0mpd\u001b[0m\u001b[1;33m.\u001b[0m\u001b[0mDataFrame\u001b[0m\u001b[1;33m(\u001b[0m\u001b[0mrandom_1\u001b[0m\u001b[1;33m)\u001b[0m\u001b[1;33m.\u001b[0m\u001b[0mto_excel\u001b[0m\u001b[1;33m(\u001b[0m\u001b[1;34m'data_x1_random.xlsx'\u001b[0m\u001b[1;33m)\u001b[0m\u001b[1;33m\u001b[0m\u001b[1;33m\u001b[0m\u001b[0m\n\u001b[1;32m----> 8\u001b[1;33m \u001b[0mpd\u001b[0m\u001b[1;33m.\u001b[0m\u001b[0mDataFrame\u001b[0m\u001b[1;33m(\u001b[0m\u001b[0mdwave_1\u001b[0m\u001b[1;33m)\u001b[0m\u001b[1;33m.\u001b[0m\u001b[0mto_excel\u001b[0m\u001b[1;33m(\u001b[0m\u001b[1;34m'data_x1_dwave.xlsx'\u001b[0m\u001b[1;33m)\u001b[0m\u001b[1;33m\u001b[0m\u001b[1;33m\u001b[0m\u001b[0m\n\u001b[0m",
      "\u001b[1;32m~\\anaconda3\\lib\\site-packages\\pandas\\core\\generic.py\u001b[0m in \u001b[0;36mto_excel\u001b[1;34m(self, excel_writer, sheet_name, na_rep, float_format, columns, header, index, index_label, startrow, startcol, engine, merge_cells, encoding, inf_rep, verbose, freeze_panes, storage_options)\u001b[0m\n\u001b[0;32m   2282\u001b[0m             \u001b[0minf_rep\u001b[0m\u001b[1;33m=\u001b[0m\u001b[0minf_rep\u001b[0m\u001b[1;33m,\u001b[0m\u001b[1;33m\u001b[0m\u001b[1;33m\u001b[0m\u001b[0m\n\u001b[0;32m   2283\u001b[0m         )\n\u001b[1;32m-> 2284\u001b[1;33m         formatter.write(\n\u001b[0m\u001b[0;32m   2285\u001b[0m             \u001b[0mexcel_writer\u001b[0m\u001b[1;33m,\u001b[0m\u001b[1;33m\u001b[0m\u001b[1;33m\u001b[0m\u001b[0m\n\u001b[0;32m   2286\u001b[0m             \u001b[0msheet_name\u001b[0m\u001b[1;33m=\u001b[0m\u001b[0msheet_name\u001b[0m\u001b[1;33m,\u001b[0m\u001b[1;33m\u001b[0m\u001b[1;33m\u001b[0m\u001b[0m\n",
      "\u001b[1;32m~\\anaconda3\\lib\\site-packages\\pandas\\io\\formats\\excel.py\u001b[0m in \u001b[0;36mwrite\u001b[1;34m(self, writer, sheet_name, startrow, startcol, freeze_panes, engine, storage_options)\u001b[0m\n\u001b[0;32m    832\u001b[0m             \u001b[1;31m# error: Cannot instantiate abstract class 'ExcelWriter' with abstract\u001b[0m\u001b[1;33m\u001b[0m\u001b[1;33m\u001b[0m\u001b[0m\n\u001b[0;32m    833\u001b[0m             \u001b[1;31m# attributes 'engine', 'save', 'supported_extensions' and 'write_cells'\u001b[0m\u001b[1;33m\u001b[0m\u001b[1;33m\u001b[0m\u001b[0m\n\u001b[1;32m--> 834\u001b[1;33m             writer = ExcelWriter(  # type: ignore[abstract]\n\u001b[0m\u001b[0;32m    835\u001b[0m                 \u001b[0mwriter\u001b[0m\u001b[1;33m,\u001b[0m \u001b[0mengine\u001b[0m\u001b[1;33m=\u001b[0m\u001b[0mengine\u001b[0m\u001b[1;33m,\u001b[0m \u001b[0mstorage_options\u001b[0m\u001b[1;33m=\u001b[0m\u001b[0mstorage_options\u001b[0m\u001b[1;33m\u001b[0m\u001b[1;33m\u001b[0m\u001b[0m\n\u001b[0;32m    836\u001b[0m             )\n",
      "\u001b[1;32m~\\anaconda3\\lib\\site-packages\\pandas\\io\\excel\\_xlsxwriter.py\u001b[0m in \u001b[0;36m__init__\u001b[1;34m(self, path, engine, date_format, datetime_format, mode, storage_options, if_sheet_exists, engine_kwargs, **kwargs)\u001b[0m\n\u001b[0;32m    189\u001b[0m             \u001b[1;32mraise\u001b[0m \u001b[0mValueError\u001b[0m\u001b[1;33m(\u001b[0m\u001b[1;34m\"Append mode is not supported with xlsxwriter!\"\u001b[0m\u001b[1;33m)\u001b[0m\u001b[1;33m\u001b[0m\u001b[1;33m\u001b[0m\u001b[0m\n\u001b[0;32m    190\u001b[0m \u001b[1;33m\u001b[0m\u001b[0m\n\u001b[1;32m--> 191\u001b[1;33m         super().__init__(\n\u001b[0m\u001b[0;32m    192\u001b[0m             \u001b[0mpath\u001b[0m\u001b[1;33m,\u001b[0m\u001b[1;33m\u001b[0m\u001b[1;33m\u001b[0m\u001b[0m\n\u001b[0;32m    193\u001b[0m             \u001b[0mengine\u001b[0m\u001b[1;33m=\u001b[0m\u001b[0mengine\u001b[0m\u001b[1;33m,\u001b[0m\u001b[1;33m\u001b[0m\u001b[1;33m\u001b[0m\u001b[0m\n",
      "\u001b[1;32m~\\anaconda3\\lib\\site-packages\\pandas\\io\\excel\\_base.py\u001b[0m in \u001b[0;36m__init__\u001b[1;34m(self, path, engine, date_format, datetime_format, mode, storage_options, if_sheet_exists, engine_kwargs, **kwargs)\u001b[0m\n\u001b[0;32m    923\u001b[0m         \u001b[0mself\u001b[0m\u001b[1;33m.\u001b[0m\u001b[0mhandles\u001b[0m \u001b[1;33m=\u001b[0m \u001b[0mIOHandles\u001b[0m\u001b[1;33m(\u001b[0m\u001b[0mcast\u001b[0m\u001b[1;33m(\u001b[0m\u001b[0mBuffer\u001b[0m\u001b[1;33m,\u001b[0m \u001b[0mpath\u001b[0m\u001b[1;33m)\u001b[0m\u001b[1;33m,\u001b[0m \u001b[0mcompression\u001b[0m\u001b[1;33m=\u001b[0m\u001b[1;33m{\u001b[0m\u001b[1;34m\"copression\"\u001b[0m\u001b[1;33m:\u001b[0m \u001b[1;32mNone\u001b[0m\u001b[1;33m}\u001b[0m\u001b[1;33m)\u001b[0m\u001b[1;33m\u001b[0m\u001b[1;33m\u001b[0m\u001b[0m\n\u001b[0;32m    924\u001b[0m         \u001b[1;32mif\u001b[0m \u001b[1;32mnot\u001b[0m \u001b[0misinstance\u001b[0m\u001b[1;33m(\u001b[0m\u001b[0mpath\u001b[0m\u001b[1;33m,\u001b[0m \u001b[0mExcelWriter\u001b[0m\u001b[1;33m)\u001b[0m\u001b[1;33m:\u001b[0m\u001b[1;33m\u001b[0m\u001b[1;33m\u001b[0m\u001b[0m\n\u001b[1;32m--> 925\u001b[1;33m             self.handles = get_handle(\n\u001b[0m\u001b[0;32m    926\u001b[0m                 \u001b[0mpath\u001b[0m\u001b[1;33m,\u001b[0m \u001b[0mmode\u001b[0m\u001b[1;33m,\u001b[0m \u001b[0mstorage_options\u001b[0m\u001b[1;33m=\u001b[0m\u001b[0mstorage_options\u001b[0m\u001b[1;33m,\u001b[0m \u001b[0mis_text\u001b[0m\u001b[1;33m=\u001b[0m\u001b[1;32mFalse\u001b[0m\u001b[1;33m\u001b[0m\u001b[1;33m\u001b[0m\u001b[0m\n\u001b[0;32m    927\u001b[0m             )\n",
      "\u001b[1;32m~\\anaconda3\\lib\\site-packages\\pandas\\io\\common.py\u001b[0m in \u001b[0;36mget_handle\u001b[1;34m(path_or_buf, mode, encoding, compression, memory_map, is_text, errors, storage_options)\u001b[0m\n\u001b[0;32m    709\u001b[0m         \u001b[1;32melse\u001b[0m\u001b[1;33m:\u001b[0m\u001b[1;33m\u001b[0m\u001b[1;33m\u001b[0m\u001b[0m\n\u001b[0;32m    710\u001b[0m             \u001b[1;31m# Binary mode\u001b[0m\u001b[1;33m\u001b[0m\u001b[1;33m\u001b[0m\u001b[0m\n\u001b[1;32m--> 711\u001b[1;33m             \u001b[0mhandle\u001b[0m \u001b[1;33m=\u001b[0m \u001b[0mopen\u001b[0m\u001b[1;33m(\u001b[0m\u001b[0mhandle\u001b[0m\u001b[1;33m,\u001b[0m \u001b[0mioargs\u001b[0m\u001b[1;33m.\u001b[0m\u001b[0mmode\u001b[0m\u001b[1;33m)\u001b[0m\u001b[1;33m\u001b[0m\u001b[1;33m\u001b[0m\u001b[0m\n\u001b[0m\u001b[0;32m    712\u001b[0m         \u001b[0mhandles\u001b[0m\u001b[1;33m.\u001b[0m\u001b[0mappend\u001b[0m\u001b[1;33m(\u001b[0m\u001b[0mhandle\u001b[0m\u001b[1;33m)\u001b[0m\u001b[1;33m\u001b[0m\u001b[1;33m\u001b[0m\u001b[0m\n\u001b[0;32m    713\u001b[0m \u001b[1;33m\u001b[0m\u001b[0m\n",
      "\u001b[1;31mPermissionError\u001b[0m: [Errno 13] Permission denied: 'data_x1_dwave.xlsx'"
     ]
    }
   ],
   "source": [
    "data_x_1=pd.DataFrame(x1)\n",
    "data_y_1=pd.DataFrame(y1)\n",
    "data_x_1.to_excel('data_x1.xlsx')\n",
    "data_y_1.to_excel('data_y1.xlsx')\n",
    "pd.DataFrame(full_1).to_excel('data_x1_full.xlsx')\n",
    "pd.DataFrame(true_1).to_excel('data_x1_true.xlsx')\n",
    "pd.DataFrame(random_1).to_excel('data_x1_random.xlsx')\n",
    "pd.DataFrame(dwave_1).to_excel('data_x1_dwave.xlsx')"
   ]
  },
  {
   "cell_type": "code",
   "execution_count": 82,
   "id": "1d8e1b83",
   "metadata": {},
   "outputs": [
    {
     "data": {
      "text/plain": [
       "(array([[0.15844291]]), array([[-583.32654679]]), 3066.1169297047854)"
      ]
     },
     "execution_count": 82,
     "metadata": {},
     "output_type": "execute_result"
    }
   ],
   "source": [
    "# Real Variables\n",
    "full_1 = full(x1,y1)\n",
    "full_1"
   ]
  },
  {
   "cell_type": "code",
   "execution_count": 294,
   "id": "7ee1ed2f",
   "metadata": {},
   "outputs": [
    {
     "name": "stderr",
     "output_type": "stream",
     "text": [
      "C:\\Users\\user\\anaconda3\\lib\\site-packages\\pandas\\core\\internals\\construction.py:540: VisibleDeprecationWarning: Creating an ndarray from ragged nested sequences (which is a list-or-tuple of lists-or-tuples-or ndarrays with different lengths or shapes) is deprecated. If you meant to do this, you must specify 'dtype=object' when creating the ndarray.\n",
      "  values = np.array([convert(v) for v in values])\n"
     ]
    }
   ],
   "source": [
    "sfnsdkfnsfnsdfksflnslkf"
   ]
  },
  {
   "cell_type": "code",
   "execution_count": 83,
   "id": "fd02f6b7",
   "metadata": {},
   "outputs": [
    {
     "data": {
      "text/plain": [
       "(array([[0.2531464]]), array([[-729.03972958]]), 2.1642845072259007)"
      ]
     },
     "execution_count": 83,
     "metadata": {},
     "output_type": "execute_result"
    }
   ],
   "source": [
    "# True Variables\n",
    "true_1 = full(pd.DataFrame(x1).iloc[:,[0,1,2,3,4,5,6,7,8,9]],y1)\n",
    "true_1"
   ]
  },
  {
   "cell_type": "code",
   "execution_count": 84,
   "id": "67b4463d",
   "metadata": {},
   "outputs": [
    {
     "data": {
      "text/plain": [
       "[(array([[2331.24115012]]), array([[4002.93196261]]), 52.86610788821716),\n",
       " (array([[2309.95437019]]), array([[4012.34544409]]), 49.595596230594765),\n",
       " (array([[2037.5038368]]), array([[3943.59428312]]), 51.278137617504285),\n",
       " (array([[1007.86940149]]), array([[3581.65085813]]), 32.798300183516766),\n",
       " (array([[2451.65391897]]), array([[4034.11299139]]), 46.238490896036545),\n",
       " (array([[1009.01012297]]), array([[3610.2164455]]), 62.41988905646636),\n",
       " (array([[823.4954989]]), array([[3484.63296091]]), 38.57179723793542),\n",
       " (array([[2618.25257908]]), array([[4062.98512886]]), 42.047007319491385),\n",
       " (array([[1290.31947437]]), array([[3697.17647964]]), 31.929117900003394),\n",
       " (array([[1883.20769331]]), array([[3900.21982988]]), 46.31250514523144)]"
      ]
     },
     "execution_count": 84,
     "metadata": {},
     "output_type": "execute_result"
    }
   ],
   "source": [
    "# Random Variables\n",
    "\n",
    "random_1=[]\n",
    "for i in range(10):\n",
    "    random_1.append(random(x1,y1))\n",
    "random_1"
   ]
  },
  {
   "cell_type": "code",
   "execution_count": 219,
   "id": "8c6849ed",
   "metadata": {},
   "outputs": [
    {
     "name": "stderr",
     "output_type": "stream",
     "text": [
      "C:\\Users\\user\\AppData\\Local\\Temp/ipykernel_18440/2860171053.py:1: DeprecationWarning: `np.float` is a deprecated alias for the builtin `float`. To silence this warning, use `float` by itself. Doing this will not modify any behavior and is safe. If you specifically wanted the numpy scalar type, use `np.float64` here.\n",
      "Deprecated in NumPy 1.20; for more details and guidance: https://numpy.org/devdocs/release/1.20.0-notes.html#deprecations\n",
      "  mse_r_1 = pd.DataFrame(random_1).iloc[:,[0]].astype(np.float)\n",
      "C:\\Users\\user\\AppData\\Local\\Temp/ipykernel_18440/2860171053.py:2: DeprecationWarning: `np.float` is a deprecated alias for the builtin `float`. To silence this warning, use `float` by itself. Doing this will not modify any behavior and is safe. If you specifically wanted the numpy scalar type, use `np.float64` here.\n",
      "Deprecated in NumPy 1.20; for more details and guidance: https://numpy.org/devdocs/release/1.20.0-notes.html#deprecations\n",
      "  aic_r_1 = pd.DataFrame(random_1).iloc[:,[1]].astype(np.float)\n",
      "C:\\Users\\user\\AppData\\Local\\Temp/ipykernel_18440/2860171053.py:3: DeprecationWarning: `np.float` is a deprecated alias for the builtin `float`. To silence this warning, use `float` by itself. Doing this will not modify any behavior and is safe. If you specifically wanted the numpy scalar type, use `np.float64` here.\n",
      "Deprecated in NumPy 1.20; for more details and guidance: https://numpy.org/devdocs/release/1.20.0-notes.html#deprecations\n",
      "  cn_r_1 = pd.DataFrame(random_1).iloc[:,[2]].astype(np.float)\n"
     ]
    }
   ],
   "source": [
    "mse_r_1 = pd.DataFrame(random_1).iloc[:,[0]].astype(np.float)\n",
    "aic_r_1 = pd.DataFrame(random_1).iloc[:,[1]].astype(np.float)\n",
    "cn_r_1 = pd.DataFrame(random_1).iloc[:,[2]].astype(np.float)"
   ]
  },
  {
   "cell_type": "code",
   "execution_count": 85,
   "id": "e5452cb1",
   "metadata": {},
   "outputs": [],
   "source": [
    "# Dwave Selected\n",
    "\n",
    "dwave_1=[]\n",
    "for i in range(10):\n",
    "    dwave_1.append(dwave(x1,y1))"
   ]
  },
  {
   "cell_type": "code",
   "execution_count": 86,
   "id": "c17efd2c",
   "metadata": {
    "scrolled": false
   },
   "outputs": [
    {
     "data": {
      "text/html": [
       "<div>\n",
       "<style scoped>\n",
       "    .dataframe tbody tr th:only-of-type {\n",
       "        vertical-align: middle;\n",
       "    }\n",
       "\n",
       "    .dataframe tbody tr th {\n",
       "        vertical-align: top;\n",
       "    }\n",
       "\n",
       "    .dataframe thead th {\n",
       "        text-align: right;\n",
       "    }\n",
       "</style>\n",
       "<table border=\"1\" class=\"dataframe\">\n",
       "  <thead>\n",
       "    <tr style=\"text-align: right;\">\n",
       "      <th></th>\n",
       "      <th>0</th>\n",
       "      <th>1</th>\n",
       "      <th>2</th>\n",
       "      <th>3</th>\n",
       "    </tr>\n",
       "  </thead>\n",
       "  <tbody>\n",
       "    <tr>\n",
       "      <th>0</th>\n",
       "      <td>{'x000': 1.0, 'x001': 1.0, 'x002': 1.0, 'x003'...</td>\n",
       "      <td>[[0.20222110827722029]]</td>\n",
       "      <td>[[-661.3428733751858]]</td>\n",
       "      <td>38.784755</td>\n",
       "    </tr>\n",
       "    <tr>\n",
       "      <th>1</th>\n",
       "      <td>{'x000': 1.0, 'x001': 1.0, 'x002': 1.0, 'x003'...</td>\n",
       "      <td>[[0.20298601431267094]]</td>\n",
       "      <td>[[-655.4551796468186]]</td>\n",
       "      <td>41.255625</td>\n",
       "    </tr>\n",
       "    <tr>\n",
       "      <th>2</th>\n",
       "      <td>{'x000': 1.0, 'x001': 1.0, 'x002': 1.0, 'x003'...</td>\n",
       "      <td>[[254.1132438447187]]</td>\n",
       "      <td>[[2908.7439238002307]]</td>\n",
       "      <td>39.638611</td>\n",
       "    </tr>\n",
       "    <tr>\n",
       "      <th>3</th>\n",
       "      <td>{'x000': 1.0, 'x001': 1.0, 'x002': 1.0, 'x003'...</td>\n",
       "      <td>[[0.20571577984840309]]</td>\n",
       "      <td>[[-650.7759671551325]]</td>\n",
       "      <td>39.225963</td>\n",
       "    </tr>\n",
       "    <tr>\n",
       "      <th>4</th>\n",
       "      <td>{'x000': 1.0, 'x001': 1.0, 'x002': 1.0, 'x003'...</td>\n",
       "      <td>[[0.2077732729948928]]</td>\n",
       "      <td>[[-647.7999947232214]]</td>\n",
       "      <td>44.078657</td>\n",
       "    </tr>\n",
       "    <tr>\n",
       "      <th>5</th>\n",
       "      <td>{'x000': 1.0, 'x001': 1.0, 'x002': 1.0, 'x003'...</td>\n",
       "      <td>[[265.4484239352847]]</td>\n",
       "      <td>[[2930.564199855926]]</td>\n",
       "      <td>46.370009</td>\n",
       "    </tr>\n",
       "    <tr>\n",
       "      <th>6</th>\n",
       "      <td>{'x000': 1.0, 'x001': 1.0, 'x002': 1.0, 'x003'...</td>\n",
       "      <td>[[269.79372213991405]]</td>\n",
       "      <td>[[2938.6827564824325]]</td>\n",
       "      <td>41.287250</td>\n",
       "    </tr>\n",
       "    <tr>\n",
       "      <th>7</th>\n",
       "      <td>{'x000': 1.0, 'x001': 1.0, 'x002': 1.0, 'x003'...</td>\n",
       "      <td>[[275.0546676222079]]</td>\n",
       "      <td>[[2944.338853647614]]</td>\n",
       "      <td>38.889288</td>\n",
       "    </tr>\n",
       "    <tr>\n",
       "      <th>8</th>\n",
       "      <td>{'x000': 1.0, 'x001': 1.0, 'x002': 1.0, 'x003'...</td>\n",
       "      <td>[[0.20485951337042377]]</td>\n",
       "      <td>[[-650.8614986850331]]</td>\n",
       "      <td>40.119000</td>\n",
       "    </tr>\n",
       "    <tr>\n",
       "      <th>9</th>\n",
       "      <td>{'x000': 1.0, 'x001': 1.0, 'x002': 1.0, 'x003'...</td>\n",
       "      <td>[[265.79274870851765]]</td>\n",
       "      <td>[[2929.2123514661193]]</td>\n",
       "      <td>42.254662</td>\n",
       "    </tr>\n",
       "  </tbody>\n",
       "</table>\n",
       "</div>"
      ],
      "text/plain": [
       "                                                   0                        1  \\\n",
       "0  {'x000': 1.0, 'x001': 1.0, 'x002': 1.0, 'x003'...  [[0.20222110827722029]]   \n",
       "1  {'x000': 1.0, 'x001': 1.0, 'x002': 1.0, 'x003'...  [[0.20298601431267094]]   \n",
       "2  {'x000': 1.0, 'x001': 1.0, 'x002': 1.0, 'x003'...    [[254.1132438447187]]   \n",
       "3  {'x000': 1.0, 'x001': 1.0, 'x002': 1.0, 'x003'...  [[0.20571577984840309]]   \n",
       "4  {'x000': 1.0, 'x001': 1.0, 'x002': 1.0, 'x003'...   [[0.2077732729948928]]   \n",
       "5  {'x000': 1.0, 'x001': 1.0, 'x002': 1.0, 'x003'...    [[265.4484239352847]]   \n",
       "6  {'x000': 1.0, 'x001': 1.0, 'x002': 1.0, 'x003'...   [[269.79372213991405]]   \n",
       "7  {'x000': 1.0, 'x001': 1.0, 'x002': 1.0, 'x003'...    [[275.0546676222079]]   \n",
       "8  {'x000': 1.0, 'x001': 1.0, 'x002': 1.0, 'x003'...  [[0.20485951337042377]]   \n",
       "9  {'x000': 1.0, 'x001': 1.0, 'x002': 1.0, 'x003'...   [[265.79274870851765]]   \n",
       "\n",
       "                        2          3  \n",
       "0  [[-661.3428733751858]]  38.784755  \n",
       "1  [[-655.4551796468186]]  41.255625  \n",
       "2  [[2908.7439238002307]]  39.638611  \n",
       "3  [[-650.7759671551325]]  39.225963  \n",
       "4  [[-647.7999947232214]]  44.078657  \n",
       "5   [[2930.564199855926]]  46.370009  \n",
       "6  [[2938.6827564824325]]  41.287250  \n",
       "7   [[2944.338853647614]]  38.889288  \n",
       "8  [[-650.8614986850331]]  40.119000  \n",
       "9  [[2929.2123514661193]]  42.254662  "
      ]
     },
     "execution_count": 86,
     "metadata": {},
     "output_type": "execute_result"
    }
   ],
   "source": [
    "pd.DataFrame(dwave_1)"
   ]
  },
  {
   "cell_type": "code",
   "execution_count": 152,
   "id": "df327a5e",
   "metadata": {},
   "outputs": [
    {
     "name": "stderr",
     "output_type": "stream",
     "text": [
      "C:\\Users\\user\\AppData\\Local\\Temp/ipykernel_18440/2946347843.py:1: DeprecationWarning: `np.float` is a deprecated alias for the builtin `float`. To silence this warning, use `float` by itself. Doing this will not modify any behavior and is safe. If you specifically wanted the numpy scalar type, use `np.float64` here.\n",
      "Deprecated in NumPy 1.20; for more details and guidance: https://numpy.org/devdocs/release/1.20.0-notes.html#deprecations\n",
      "  mse_1 = pd.DataFrame(dwave_1).iloc[:,[1]].astype(np.float)\n",
      "C:\\Users\\user\\AppData\\Local\\Temp/ipykernel_18440/2946347843.py:2: DeprecationWarning: `np.float` is a deprecated alias for the builtin `float`. To silence this warning, use `float` by itself. Doing this will not modify any behavior and is safe. If you specifically wanted the numpy scalar type, use `np.float64` here.\n",
      "Deprecated in NumPy 1.20; for more details and guidance: https://numpy.org/devdocs/release/1.20.0-notes.html#deprecations\n",
      "  aic_1 = pd.DataFrame(dwave_1).iloc[:,[1]].astype(np.float)\n",
      "C:\\Users\\user\\AppData\\Local\\Temp/ipykernel_18440/2946347843.py:3: DeprecationWarning: `np.float` is a deprecated alias for the builtin `float`. To silence this warning, use `float` by itself. Doing this will not modify any behavior and is safe. If you specifically wanted the numpy scalar type, use `np.float64` here.\n",
      "Deprecated in NumPy 1.20; for more details and guidance: https://numpy.org/devdocs/release/1.20.0-notes.html#deprecations\n",
      "  cn_1 = pd.DataFrame(dwave_1).iloc[:,[1]].astype(np.float)\n"
     ]
    }
   ],
   "source": [
    "mse_1 = pd.DataFrame(dwave_1).iloc[:,[1]].astype(np.float)\n",
    "aic_1 = pd.DataFrame(dwave_1).iloc[:,[2]].astype(np.float)\n",
    "cn_1 = pd.DataFrame(dwave_1).iloc[:,[3]].astype(np.float)"
   ]
  },
  {
   "cell_type": "code",
   "execution_count": 269,
   "id": "9cabf501",
   "metadata": {
    "scrolled": false
   },
   "outputs": [
    {
     "data": {
      "image/png": "[encoded data removed]",
      "text/plain": [
       "<Figure size 200x400 with 1 Axes>"
      ]
     },
     "metadata": {},
     "output_type": "display_data"
    }
   ],
   "source": [
    "# Data 1 mse\n",
    "\n",
    "plt.style.use('default')\n",
    "plt.rcParams['figure.figsize'] = (2, 4)\n",
    "plt.rcParams['font.size'] = 12\n",
    "\n",
    "fig, ax = plt.subplots()\n",
    "\n",
    "ax.boxplot(mse_1.T.append(mse_r_1.T).T)\n",
    "#ax.boxplot(mse_r)\n",
    "#ax.boxplot(mse_r_1)\n",
    "ax.set_xlabel('mse')\n",
    "ax.set_ylabel('Log Scale')\n",
    "plt.xticks([1,2], ['Dwave',\"Random\"])\n",
    "\n",
    "plt.axhline(full_1[0], 0.1, 0.9, color='Blue', linestyle='-', linewidth=2)\n",
    "ax.text(0,(full_1[0]),f'Full:  ',fontsize=8)\n",
    "plt.axhline(true_1[0], 0.1, 0.9, color='Red', linestyle='-', linewidth=2)\n",
    "ax.text(0,(true_1[0]),f'True:  ',fontsize=8)\n",
    "plt.yscale('log', base=10)\n",
    "plt.show()"
   ]
  },
  {
   "cell_type": "code",
   "execution_count": 275,
   "id": "46daaa32",
   "metadata": {},
   "outputs": [
    {
     "data": {
      "image/png": "[encoded data removed]",
      "text/plain": [
       "<Figure size 200x400 with 1 Axes>"
      ]
     },
     "metadata": {},
     "output_type": "display_data"
    }
   ],
   "source": [
    "# Data 1  AIC\n",
    "\n",
    "plt.style.use('default')\n",
    "plt.rcParams['figure.figsize'] = (2, 4)\n",
    "plt.rcParams['font.size'] = 12\n",
    "\n",
    "fig, ax = plt.subplots()\n",
    "\n",
    "ax.boxplot(aic_1.T.append(aic_r_1.T).T)\n",
    "#ax.boxplot(mse_r)\n",
    "#ax.boxplot(mse_r_1)\n",
    "ax.set_xlabel('AIC')\n",
    "ax.set_ylabel('Value')\n",
    "plt.xticks([1,2], ['Dwave',\"Random\"])\n",
    "\n",
    "plt.axhline(full_1[1], 0.1, 0.9, color='Blue', linestyle='-', linewidth=2)\n",
    "ax.text(0,(full_1[1]),f'Full:  ',fontsize=8)\n",
    "plt.axhline(true_1[1], 0.1, 0.9, color='Red', linestyle='-', linewidth=2)\n",
    "ax.text(0,(true_1[1]),f'True:  ',fontsize=8)\n",
    "# plt.yscale('log', base=10)\n",
    "plt.show()"
   ]
  },
  {
   "cell_type": "code",
   "execution_count": 281,
   "id": "703e44b5",
   "metadata": {
    "scrolled": false
   },
   "outputs": [
    {
     "data": {
      "image/png": "[encoded data removed]",
      "text/plain": [
       "<Figure size 200x400 with 1 Axes>"
      ]
     },
     "metadata": {},
     "output_type": "display_data"
    }
   ],
   "source": [
    "# Data 1  CN\n",
    "\n",
    "plt.style.use('default')\n",
    "plt.rcParams['figure.figsize'] = (2, 4)\n",
    "plt.rcParams['font.size'] = 12\n",
    "\n",
    "fig, ax = plt.subplots()\n",
    "\n",
    "ax.boxplot(cn_1.T.append(cn_r_1.T).T)\n",
    "#ax.boxplot(mse_r)\n",
    "#ax.boxplot(mse_r_1)\n",
    "ax.set_xlabel('CN')\n",
    "ax.set_ylabel('Value')\n",
    "plt.xticks([1,2], ['Dwave',\"Random\"])\n",
    "\n",
    "plt.axhline(full_1[2], 0.1, 0.9, color='Blue', linestyle='-', linewidth=2)\n",
    "ax.text(0,(full_1[2]),f'Full:  ',fontsize=8)\n",
    "plt.axhline(true_1[2], 0.1, 0.9, color='Red', linestyle='-', linewidth=2)\n",
    "ax.text(0,(true_1[2]),f'True:  ',fontsize=8)\n",
    "plt.yscale('log', base=10)\n",
    "plt.show()"
   ]
  },
  {
   "cell_type": "code",
   "execution_count": 361,
   "id": "df5c5532",
   "metadata": {},
   "outputs": [],
   "source": [
    "import seaborn as sns\n",
    "sns.set_theme()"
   ]
  },
  {
   "cell_type": "code",
   "execution_count": null,
   "id": "b64e97ac",
   "metadata": {},
   "outputs": [],
   "source": []
  },
  {
   "cell_type": "code",
   "execution_count": null,
   "id": "b057453d",
   "metadata": {},
   "outputs": [],
   "source": []
  },
  {
   "cell_type": "code",
   "execution_count": 87,
   "id": "f81d96b0",
   "metadata": {},
   "outputs": [],
   "source": [
    "#### Data 2\n",
    "x2,y2 = kqc_custom.generate_dependent_sample(1000,200,beta_coef=[10,10,10,10,10,10,10,10,10,10],epsilon = 0.5)"
   ]
  },
  {
   "cell_type": "code",
   "execution_count": 88,
   "id": "b513f9f3",
   "metadata": {},
   "outputs": [
    {
     "data": {
      "text/plain": [
       "(array([[0.1781473]]), array([[-1394.22208001]]), 1895.878288335867)"
      ]
     },
     "execution_count": 88,
     "metadata": {},
     "output_type": "execute_result"
    }
   ],
   "source": [
    "# Real Variables\n",
    "full_2 = full(x2,y2)\n",
    "full_2"
   ]
  },
  {
   "cell_type": "code",
   "execution_count": 89,
   "id": "0956198c",
   "metadata": {},
   "outputs": [
    {
     "data": {
      "text/plain": [
       "(array([[0.22812875]]), array([[-1526.92268706]]), 2.2668378275881365)"
      ]
     },
     "execution_count": 89,
     "metadata": {},
     "output_type": "execute_result"
    }
   ],
   "source": [
    "# True Variables\n",
    "true_2 = full(pd.DataFrame(x2).iloc[:,[0,1,2,3,4,5,6,7,8,9]],y2)\n",
    "true_2"
   ]
  },
  {
   "cell_type": "code",
   "execution_count": 90,
   "id": "33769c2e",
   "metadata": {},
   "outputs": [
    {
     "data": {
      "text/plain": [
       "[(array([[9772.32368973]]), array([[9324.23200324]]), 36.622606319102324),\n",
       " (array([[11688.71919556]]), array([[9495.30193156]]), 31.546824026584037),\n",
       " (array([[4388.79199625]]), array([[8501.73174372]]), 27.621766450329893),\n",
       " (array([[16294.79059183]]), array([[9801.52318733]]), 23.948084728615505),\n",
       " (array([[6928.36316201]]), array([[8978.30131554]]), 39.73369419948681),\n",
       " (array([[3639.49333777]]), array([[8338.52220523]]), 50.325279686664715),\n",
       " (array([[7249.16440059]]), array([[9031.56393333]]), 46.43150679730744),\n",
       " (array([[3827.51069139]]), array([[8392.89236805]]), 52.46003654390028),\n",
       " (array([[6520.14001642]]), array([[8905.57357681]]), 30.712255105384713),\n",
       " (array([[7378.09559555]]), array([[9025.19328212]]), 32.664266431427194)]"
      ]
     },
     "execution_count": 90,
     "metadata": {},
     "output_type": "execute_result"
    }
   ],
   "source": [
    "# Random Variables\n",
    "\n",
    "random_2=[]\n",
    "for i in range(10):\n",
    "    random_2.append(random(x2,y2))\n",
    "random_2"
   ]
  },
  {
   "cell_type": "code",
   "execution_count": 91,
   "id": "14c1bde2",
   "metadata": {},
   "outputs": [],
   "source": [
    "# Dwave Selected\n",
    "\n",
    "dwave_2=[]\n",
    "for i in range(10):\n",
    "    dwave_2.append(dwave(x2,y2))"
   ]
  },
  {
   "cell_type": "code",
   "execution_count": 92,
   "id": "ceb9ecd7",
   "metadata": {
    "scrolled": false
   },
   "outputs": [
    {
     "data": {
      "text/html": [
       "<div>\n",
       "<style scoped>\n",
       "    .dataframe tbody tr th:only-of-type {\n",
       "        vertical-align: middle;\n",
       "    }\n",
       "\n",
       "    .dataframe tbody tr th {\n",
       "        vertical-align: top;\n",
       "    }\n",
       "\n",
       "    .dataframe thead th {\n",
       "        text-align: right;\n",
       "    }\n",
       "</style>\n",
       "<table border=\"1\" class=\"dataframe\">\n",
       "  <thead>\n",
       "    <tr style=\"text-align: right;\">\n",
       "      <th></th>\n",
       "      <th>0</th>\n",
       "      <th>1</th>\n",
       "      <th>2</th>\n",
       "      <th>3</th>\n",
       "    </tr>\n",
       "  </thead>\n",
       "  <tbody>\n",
       "    <tr>\n",
       "      <th>0</th>\n",
       "      <td>{'x000': 1.0, 'x001': 1.0, 'x002': 1.0, 'x003'...</td>\n",
       "      <td>[[0.20361136364158094]]</td>\n",
       "      <td>[[-1460.6197350893526]]</td>\n",
       "      <td>31.187548</td>\n",
       "    </tr>\n",
       "    <tr>\n",
       "      <th>1</th>\n",
       "      <td>{'x000': 1.0, 'x001': 1.0, 'x002': 1.0, 'x003'...</td>\n",
       "      <td>[[0.20567797221786055]]</td>\n",
       "      <td>[[-1448.5211277803658]]</td>\n",
       "      <td>31.160157</td>\n",
       "    </tr>\n",
       "    <tr>\n",
       "      <th>2</th>\n",
       "      <td>{'x000': 1.0, 'x001': 1.0, 'x002': 1.0, 'x003'...</td>\n",
       "      <td>[[0.20711822172309036]]</td>\n",
       "      <td>[[-1443.543082098006]]</td>\n",
       "      <td>28.219160</td>\n",
       "    </tr>\n",
       "    <tr>\n",
       "      <th>3</th>\n",
       "      <td>{'x000': 1.0, 'x001': 1.0, 'x002': 1.0, 'x003'...</td>\n",
       "      <td>[[0.2014004582302389]]</td>\n",
       "      <td>[[-1471.5375762654628]]</td>\n",
       "      <td>31.581611</td>\n",
       "    </tr>\n",
       "    <tr>\n",
       "      <th>4</th>\n",
       "      <td>{'x000': 1.0, 'x001': 1.0, 'x002': 1.0, 'x003'...</td>\n",
       "      <td>[[0.20533710743291217]]</td>\n",
       "      <td>[[-1452.1797767203732]]</td>\n",
       "      <td>29.246376</td>\n",
       "    </tr>\n",
       "    <tr>\n",
       "      <th>5</th>\n",
       "      <td>{'x000': 1.0, 'x001': 1.0, 'x002': 1.0, 'x003'...</td>\n",
       "      <td>[[0.20414296035987206]]</td>\n",
       "      <td>[[-1458.0122972858424]]</td>\n",
       "      <td>27.740930</td>\n",
       "    </tr>\n",
       "    <tr>\n",
       "      <th>6</th>\n",
       "      <td>{'x000': 1.0, 'x001': 1.0, 'x002': 1.0, 'x003'...</td>\n",
       "      <td>[[0.20530395895940742]]</td>\n",
       "      <td>[[-1452.341224156052]]</td>\n",
       "      <td>28.860275</td>\n",
       "    </tr>\n",
       "    <tr>\n",
       "      <th>7</th>\n",
       "      <td>{'x000': 1.0, 'x001': 1.0, 'x002': 1.0, 'x003'...</td>\n",
       "      <td>[[0.2055880301098506]]</td>\n",
       "      <td>[[-1452.9585191958233]]</td>\n",
       "      <td>29.938661</td>\n",
       "    </tr>\n",
       "    <tr>\n",
       "      <th>8</th>\n",
       "      <td>{'x000': 1.0, 'x001': 1.0, 'x002': 1.0, 'x003'...</td>\n",
       "      <td>[[0.20515946137232688]]</td>\n",
       "      <td>[[-1453.045294657306]]</td>\n",
       "      <td>32.054005</td>\n",
       "    </tr>\n",
       "    <tr>\n",
       "      <th>9</th>\n",
       "      <td>{'x000': 1.0, 'x001': 1.0, 'x002': 1.0, 'x003'...</td>\n",
       "      <td>[[0.2083350248527708]]</td>\n",
       "      <td>[[-1435.685351443328]]</td>\n",
       "      <td>27.362765</td>\n",
       "    </tr>\n",
       "  </tbody>\n",
       "</table>\n",
       "</div>"
      ],
      "text/plain": [
       "                                                   0                        1  \\\n",
       "0  {'x000': 1.0, 'x001': 1.0, 'x002': 1.0, 'x003'...  [[0.20361136364158094]]   \n",
       "1  {'x000': 1.0, 'x001': 1.0, 'x002': 1.0, 'x003'...  [[0.20567797221786055]]   \n",
       "2  {'x000': 1.0, 'x001': 1.0, 'x002': 1.0, 'x003'...  [[0.20711822172309036]]   \n",
       "3  {'x000': 1.0, 'x001': 1.0, 'x002': 1.0, 'x003'...   [[0.2014004582302389]]   \n",
       "4  {'x000': 1.0, 'x001': 1.0, 'x002': 1.0, 'x003'...  [[0.20533710743291217]]   \n",
       "5  {'x000': 1.0, 'x001': 1.0, 'x002': 1.0, 'x003'...  [[0.20414296035987206]]   \n",
       "6  {'x000': 1.0, 'x001': 1.0, 'x002': 1.0, 'x003'...  [[0.20530395895940742]]   \n",
       "7  {'x000': 1.0, 'x001': 1.0, 'x002': 1.0, 'x003'...   [[0.2055880301098506]]   \n",
       "8  {'x000': 1.0, 'x001': 1.0, 'x002': 1.0, 'x003'...  [[0.20515946137232688]]   \n",
       "9  {'x000': 1.0, 'x001': 1.0, 'x002': 1.0, 'x003'...   [[0.2083350248527708]]   \n",
       "\n",
       "                         2          3  \n",
       "0  [[-1460.6197350893526]]  31.187548  \n",
       "1  [[-1448.5211277803658]]  31.160157  \n",
       "2   [[-1443.543082098006]]  28.219160  \n",
       "3  [[-1471.5375762654628]]  31.581611  \n",
       "4  [[-1452.1797767203732]]  29.246376  \n",
       "5  [[-1458.0122972858424]]  27.740930  \n",
       "6   [[-1452.341224156052]]  28.860275  \n",
       "7  [[-1452.9585191958233]]  29.938661  \n",
       "8   [[-1453.045294657306]]  32.054005  \n",
       "9   [[-1435.685351443328]]  27.362765  "
      ]
     },
     "execution_count": 92,
     "metadata": {},
     "output_type": "execute_result"
    }
   ],
   "source": [
    "pd.DataFrame(dwave_2)"
   ]
  },
  {
   "cell_type": "code",
   "execution_count": 296,
   "id": "593dd65e",
   "metadata": {},
   "outputs": [],
   "source": [
    "# 데이터 저장\n",
    "\n",
    "data_x_2=pd.DataFrame(x2)\n",
    "data_y_2=pd.DataFrame(y2)\n",
    "data_x_2.to_excel('data_x2.xlsx')\n",
    "data_y_2.to_excel('data_y2.xlsx')\n",
    "pd.DataFrame(full_2).to_excel('data_x2_full.xlsx')\n",
    "pd.DataFrame(true_2).to_excel('data_x2_true.xlsx')\n",
    "pd.DataFrame(random_2).to_excel('data_x2_random.xlsx')\n",
    "pd.DataFrame(dwave_2).to_excel('data_x2_dwave.xlsx')"
   ]
  },
  {
   "cell_type": "code",
   "execution_count": 297,
   "id": "a5b9aac6",
   "metadata": {},
   "outputs": [
    {
     "name": "stderr",
     "output_type": "stream",
     "text": [
      "C:\\Users\\user\\AppData\\Local\\Temp/ipykernel_18440/628533317.py:2: DeprecationWarning: `np.float` is a deprecated alias for the builtin `float`. To silence this warning, use `float` by itself. Doing this will not modify any behavior and is safe. If you specifically wanted the numpy scalar type, use `np.float64` here.\n",
      "Deprecated in NumPy 1.20; for more details and guidance: https://numpy.org/devdocs/release/1.20.0-notes.html#deprecations\n",
      "  mse_r_2 = pd.DataFrame(random_2).iloc[:,[0]].astype(np.float)\n",
      "C:\\Users\\user\\AppData\\Local\\Temp/ipykernel_18440/628533317.py:3: DeprecationWarning: `np.float` is a deprecated alias for the builtin `float`. To silence this warning, use `float` by itself. Doing this will not modify any behavior and is safe. If you specifically wanted the numpy scalar type, use `np.float64` here.\n",
      "Deprecated in NumPy 1.20; for more details and guidance: https://numpy.org/devdocs/release/1.20.0-notes.html#deprecations\n",
      "  aic_r_2 = pd.DataFrame(random_2).iloc[:,[1]].astype(np.float)\n",
      "C:\\Users\\user\\AppData\\Local\\Temp/ipykernel_18440/628533317.py:4: DeprecationWarning: `np.float` is a deprecated alias for the builtin `float`. To silence this warning, use `float` by itself. Doing this will not modify any behavior and is safe. If you specifically wanted the numpy scalar type, use `np.float64` here.\n",
      "Deprecated in NumPy 1.20; for more details and guidance: https://numpy.org/devdocs/release/1.20.0-notes.html#deprecations\n",
      "  cn_r_2 = pd.DataFrame(random_2).iloc[:,[2]].astype(np.float)\n",
      "C:\\Users\\user\\AppData\\Local\\Temp/ipykernel_18440/628533317.py:5: DeprecationWarning: `np.float` is a deprecated alias for the builtin `float`. To silence this warning, use `float` by itself. Doing this will not modify any behavior and is safe. If you specifically wanted the numpy scalar type, use `np.float64` here.\n",
      "Deprecated in NumPy 1.20; for more details and guidance: https://numpy.org/devdocs/release/1.20.0-notes.html#deprecations\n",
      "  mse_2 = pd.DataFrame(dwave_2).iloc[:,[1]].astype(np.float)\n",
      "C:\\Users\\user\\AppData\\Local\\Temp/ipykernel_18440/628533317.py:6: DeprecationWarning: `np.float` is a deprecated alias for the builtin `float`. To silence this warning, use `float` by itself. Doing this will not modify any behavior and is safe. If you specifically wanted the numpy scalar type, use `np.float64` here.\n",
      "Deprecated in NumPy 1.20; for more details and guidance: https://numpy.org/devdocs/release/1.20.0-notes.html#deprecations\n",
      "  aic_2 = pd.DataFrame(dwave_2).iloc[:,[2]].astype(np.float)\n",
      "C:\\Users\\user\\AppData\\Local\\Temp/ipykernel_18440/628533317.py:7: DeprecationWarning: `np.float` is a deprecated alias for the builtin `float`. To silence this warning, use `float` by itself. Doing this will not modify any behavior and is safe. If you specifically wanted the numpy scalar type, use `np.float64` here.\n",
      "Deprecated in NumPy 1.20; for more details and guidance: https://numpy.org/devdocs/release/1.20.0-notes.html#deprecations\n",
      "  cn_2 = pd.DataFrame(dwave_2).iloc[:,[3]].astype(np.float)\n"
     ]
    }
   ],
   "source": [
    "# 데이터 저장\n",
    "\n",
    "data_x_2=pd.DataFrame(x2)\n",
    "data_y_2=pd.DataFrame(y2)\n",
    "data_x_2.to_excel('data_x2.xlsx')\n",
    "data_y_2.to_excel('data_y2.xlsx')\n",
    "pd.DataFrame(full_2).to_excel('data_x2_full.xlsx')\n",
    "pd.DataFrame(true_2).to_excel('data_x2_true.xlsx')\n",
    "pd.DataFrame(random_2).to_excel('data_x2_random.xlsx')\n",
    "pd.DataFrame(dwave_2).to_excel('data_x2_dwave.xlsx')\n",
    "\n",
    "# 그래프 만들기\n",
    "mse_r_2 = pd.DataFrame(random_2).iloc[:,[0]].astype(np.float)\n",
    "aic_r_2 = pd.DataFrame(random_2).iloc[:,[1]].astype(np.float)\n",
    "cn_r_2 = pd.DataFrame(random_2).iloc[:,[2]].astype(np.float)\n",
    "mse_2 = pd.DataFrame(dwave_2).iloc[:,[1]].astype(np.float)\n",
    "aic_2 = pd.DataFrame(dwave_2).iloc[:,[2]].astype(np.float)\n",
    "cn_2 = pd.DataFrame(dwave_2).iloc[:,[3]].astype(np.float)"
   ]
  },
  {
   "cell_type": "code",
   "execution_count": 318,
   "id": "a4c7f896",
   "metadata": {
    "scrolled": false
   },
   "outputs": [
    {
     "data": {
      "image/png": "[encoded data removed]",
      "text/plain": [
       "<Figure size 200x400 with 1 Axes>"
      ]
     },
     "metadata": {},
     "output_type": "display_data"
    }
   ],
   "source": [
    "# Data 2 mse\n",
    "\n",
    "plt.style.use('default')\n",
    "plt.rcParams['figure.figsize'] = (2, 4)\n",
    "plt.rcParams['font.size'] = 12\n",
    "\n",
    "fig, ax = plt.subplots()\n",
    "\n",
    "ax.boxplot(mse_2.T.append(mse_r_2.T).T)\n",
    "#ax.boxplot(mse_r)\n",
    "#ax.boxplot(mse_r_1)\n",
    "ax.set_xlabel('MSE2')\n",
    "plt.xticks([1,2], ['Dwave',\"Random\"])\n",
    "\n",
    "plt.axhline(full_2[0], 0.1, 0.9, color='Blue', linestyle='-', linewidth=2)\n",
    "ax.text(0,(full_2[0]),f'Full:  ',fontsize=8)\n",
    "plt.axhline(true_2[0], 0.1, 0.9, color='Red', linestyle='-', linewidth=2)\n",
    "ax.text(0,(true_2[0]),f'True:  ',fontsize=8)\n",
    "plt.yscale('log', base=10)\n",
    "plt.show()"
   ]
  },
  {
   "cell_type": "code",
   "execution_count": 317,
   "id": "5f81feee",
   "metadata": {
    "scrolled": false
   },
   "outputs": [
    {
     "data": {
      "image/png": "[encoded data removed]",
      "text/plain": [
       "<Figure size 200x400 with 1 Axes>"
      ]
     },
     "metadata": {},
     "output_type": "display_data"
    }
   ],
   "source": [
    "# Data 2 mse_without_random\n",
    "\n",
    "plt.style.use('default')\n",
    "plt.rcParams['figure.figsize'] = (2, 4)\n",
    "plt.rcParams['font.size'] = 12\n",
    "\n",
    "fig, ax = plt.subplots()\n",
    "\n",
    "#ax.boxplot(mse_2.T.append(mse_r_2.T).T)\n",
    "ax.boxplot(mse_2)\n",
    "#ax.boxplot(mse_r_1)\n",
    "ax.set_xlabel('MSE2')\n",
    "plt.xticks([1], ['Dwave'])\n",
    "#plt.xticks([1,2], ['Dwave',\"Random\"])\n",
    "\n",
    "plt.axhline(full_2[0], 0.1, 0.9, color='Blue', linestyle='-', linewidth=2)\n",
    "ax.text(0,(full_2[0]),f'Full:  ',fontsize=8)\n",
    "plt.axhline(true_2[0], 0.1, 0.9, color='Red', linestyle='-', linewidth=2)\n",
    "ax.text(0,(true_2[0]),f'True:  ',fontsize=8)\n",
    "#plt.yscale('log', base=10)\n",
    "plt.show()"
   ]
  },
  {
   "cell_type": "code",
   "execution_count": 363,
   "id": "b894527c",
   "metadata": {},
   "outputs": [
    {
     "data": {
      "image/png": "[encoded data removed]",
      "text/plain": [
       "<Figure size 200x400 with 1 Axes>"
      ]
     },
     "metadata": {},
     "output_type": "display_data"
    }
   ],
   "source": [
    "# Data 2  AIC\n",
    "\n",
    "plt.style.use('default')\n",
    "plt.rcParams['figure.figsize'] = (2, 4)\n",
    "plt.rcParams['font.size'] = 12\n",
    "\n",
    "fig, ax = plt.subplots()\n",
    "\n",
    "ax.boxplot(aic_2.T.append(aic_r_2.T).T)\n",
    "#ax.boxplot(mse_r)\n",
    "#ax.boxplot(mse_r_1)\n",
    "ax.set_xlabel('AIC')\n",
    "ax.set_ylabel('Value')\n",
    "plt.xticks([1,2], ['Dwave',\"Random\"])\n",
    "\n",
    "plt.axhline(full_2[1], 0.1, 0.9, color='Blue', linestyle='-', linewidth=2)\n",
    "ax.text(0,(full_2[1]),f'Full:  ',fontsize=8)\n",
    "plt.axhline(true_2[1], 0.1, 0.9, color='Red', linestyle='-', linewidth=2)\n",
    "ax.text(0,(true_2[1]),f'True:  ',fontsize=8)\n",
    "#plt.yscale('log', base=10)\n",
    "plt.show()"
   ]
  },
  {
   "cell_type": "code",
   "execution_count": 313,
   "id": "b3c214d0",
   "metadata": {
    "scrolled": false
   },
   "outputs": [
    {
     "data": {
      "image/png": "[encoded data removed]",
      "text/plain": [
       "<Figure size 200x400 with 1 Axes>"
      ]
     },
     "metadata": {},
     "output_type": "display_data"
    }
   ],
   "source": [
    "# Data 2  AIC\n",
    "\n",
    "plt.style.use('default')\n",
    "plt.rcParams['figure.figsize'] = (2, 4)\n",
    "plt.rcParams['font.size'] = 12\n",
    "\n",
    "fig, ax = plt.subplots()\n",
    "\n",
    "#ax.boxplot(aic_2.T.append(aic_r_2.T).T)\n",
    "ax.boxplot(aic_2)\n",
    "#ax.boxplot(mse_r_1)\n",
    "ax.set_xlabel('AIC')\n",
    "ax.set_ylabel('Value')\n",
    "#plt.xticks([1,2], ['Dwave',\"Random\"])\n",
    "plt.xticks([1], ['Dwave'])\n",
    "plt.axhline(full_2[1], 0.1, 0.9, color='Blue', linestyle='-', linewidth=2)\n",
    "ax.text(0,(full_2[1]),f'Full:  ',fontsize=8)\n",
    "plt.axhline(true_2[1], 0.1, 0.9, color='Red', linestyle='-', linewidth=2)\n",
    "ax.text(0,(true_2[1]),f'True:  ',fontsize=8)\n",
    "# plt.yscale('log', base=10)\n",
    "plt.show()"
   ]
  },
  {
   "cell_type": "code",
   "execution_count": 312,
   "id": "2784401d",
   "metadata": {
    "scrolled": false
   },
   "outputs": [
    {
     "data": {
      "image/png": "[encoded data removed]",
      "text/plain": [
       "<Figure size 200x400 with 1 Axes>"
      ]
     },
     "metadata": {},
     "output_type": "display_data"
    }
   ],
   "source": [
    "# Data 2  CN\n",
    "\n",
    "plt.style.use('default')\n",
    "plt.rcParams['figure.figsize'] = (2, 4)\n",
    "plt.rcParams['font.size'] = 12\n",
    "\n",
    "fig, ax = plt.subplots()\n",
    "\n",
    "ax.boxplot(cn_2.T.append(cn_r_2.T).T)\n",
    "#ax.boxplot(mse_r)\n",
    "#ax.boxplot(mse_r_1)\n",
    "ax.set_xlabel('CN')\n",
    "ax.set_ylabel('Value')\n",
    "plt.xticks([1,2], ['Dwave',\"Random\"])\n",
    "\n",
    "plt.axhline(full_2[2], 0.1, 0.9, color='Blue', linestyle='-', linewidth=2)\n",
    "ax.text(0,(full_2[2]),f'Full:  ',fontsize=8)\n",
    "plt.axhline(true_2[2], 0.1, 0.9, color='Red', linestyle='-', linewidth=2)\n",
    "ax.text(0,(true_2[2]),f'True:  ',fontsize=8)\n",
    "plt.yscale('log', base=10)\n",
    "plt.show()"
   ]
  },
  {
   "cell_type": "code",
   "execution_count": 362,
   "id": "fa24e7e0",
   "metadata": {},
   "outputs": [
    {
     "data": {
      "image/png": "[encoded data removed]",
      "text/plain": [
       "<Figure size 200x400 with 1 Axes>"
      ]
     },
     "metadata": {},
     "output_type": "display_data"
    },
    {
     "data": {
      "image/png": "[encoded data removed]",
      "text/plain": [
       "<Figure size 200x400 with 1 Axes>"
      ]
     },
     "metadata": {},
     "output_type": "display_data"
    }
   ],
   "source": [
    "plt.subplot(131)\n",
    "plt.style.use('default')\n",
    "plt.rcParams['figure.figsize'] = (2, 4)\n",
    "plt.rcParams['font.size'] = 12\n",
    "\n",
    "fig, ax = plt.subplots()\n",
    "\n",
    "ax.boxplot(mse_2.T.append(mse_r_2.T).T)\n",
    "#ax.boxplot(mse_r)\n",
    "#ax.boxplot(mse_r_1)\n",
    "ax.set_xlabel('MSE2')\n",
    "plt.xticks([1,2], ['Dwave',\"Random\"])\n",
    "\n",
    "plt.axhline(full_2[0], 0.1, 0.9, color='Blue', linestyle='-', linewidth=2)\n",
    "ax.text(0,(full_2[0]),f'Full:  ',fontsize=8)\n",
    "plt.axhline(true_2[0], 0.1, 0.9, color='Red', linestyle='-', linewidth=2)\n",
    "ax.text(0,(true_2[0]),f'True:  ',fontsize=8)\n",
    "plt.yscale('log', base=10)"
   ]
  },
  {
   "cell_type": "code",
   "execution_count": null,
   "id": "93c8d394",
   "metadata": {},
   "outputs": [],
   "source": [
    "plt.subplot(131)\n",
    "plt.style.use('default')\n",
    "plt.rcParams['figure.figsize'] = (2, 4)\n",
    "plt.rcParams['font.size'] = 12\n",
    "\n",
    "fig, ax = plt.subplots()\n",
    "\n",
    "ax.boxplot(mse_2.T.append(mse_r_2.T).T)\n",
    "#ax.boxplot(mse_r)\n",
    "#ax.boxplot(mse_r_1)\n",
    "ax.set_xlabel('MSE2')\n",
    "plt.xticks([1,2], ['Dwave',\"Random\"])\n",
    "\n",
    "plt.axhline(full_2[0], 0.1, 0.9, color='Blue', linestyle='-', linewidth=2)\n",
    "ax.text(0,(full_2[0]),f'Full:  ',fontsize=8)\n",
    "plt.axhline(true_2[0], 0.1, 0.9, color='Red', linestyle='-', linewidth=2)\n",
    "ax.text(0,(true_2[0]),f'True:  ',fontsize=8)\n",
    "plt.yscale('log', base=10)\n",
    "\n",
    "plt.plot(~)\n",
    "plt.subplot(132)\n",
    "plt.plot(~)\n",
    "plt.subplot(133)\n",
    "plt.plot(~)"
   ]
  },
  {
   "cell_type": "code",
   "execution_count": null,
   "id": "f45d1899",
   "metadata": {},
   "outputs": [],
   "source": []
  },
  {
   "cell_type": "code",
   "execution_count": null,
   "id": "b44b658f",
   "metadata": {},
   "outputs": [],
   "source": []
  },
  {
   "cell_type": "code",
   "execution_count": null,
   "id": "09b17f2d",
   "metadata": {},
   "outputs": [],
   "source": []
  },
  {
   "cell_type": "code",
   "execution_count": 311,
   "id": "2d880b58",
   "metadata": {
    "scrolled": true
   },
   "outputs": [
    {
     "name": "stderr",
     "output_type": "stream",
     "text": [
      "C:\\Users\\user\\anaconda3\\lib\\site-packages\\pandas\\core\\internals\\construction.py:540: VisibleDeprecationWarning: Creating an ndarray from ragged nested sequences (which is a list-or-tuple of lists-or-tuples-or ndarrays with different lengths or shapes) is deprecated. If you meant to do this, you must specify 'dtype=object' when creating the ndarray.\n",
      "  values = np.array([convert(v) for v in values])\n",
      "C:\\Users\\user\\AppData\\Local\\Temp/ipykernel_18440/3061209190.py:13: DeprecationWarning: `np.float` is a deprecated alias for the builtin `float`. To silence this warning, use `float` by itself. Doing this will not modify any behavior and is safe. If you specifically wanted the numpy scalar type, use `np.float64` here.\n",
      "Deprecated in NumPy 1.20; for more details and guidance: https://numpy.org/devdocs/release/1.20.0-notes.html#deprecations\n",
      "  mse_r_3 = pd.DataFrame(random_3).iloc[:,[0]].astype(np.float)\n",
      "C:\\Users\\user\\AppData\\Local\\Temp/ipykernel_18440/3061209190.py:14: DeprecationWarning: `np.float` is a deprecated alias for the builtin `float`. To silence this warning, use `float` by itself. Doing this will not modify any behavior and is safe. If you specifically wanted the numpy scalar type, use `np.float64` here.\n",
      "Deprecated in NumPy 1.20; for more details and guidance: https://numpy.org/devdocs/release/1.20.0-notes.html#deprecations\n",
      "  aic_r_3 = pd.DataFrame(random_3).iloc[:,[1]].astype(np.float)\n",
      "C:\\Users\\user\\AppData\\Local\\Temp/ipykernel_18440/3061209190.py:15: DeprecationWarning: `np.float` is a deprecated alias for the builtin `float`. To silence this warning, use `float` by itself. Doing this will not modify any behavior and is safe. If you specifically wanted the numpy scalar type, use `np.float64` here.\n",
      "Deprecated in NumPy 1.20; for more details and guidance: https://numpy.org/devdocs/release/1.20.0-notes.html#deprecations\n",
      "  cn_r_3 = pd.DataFrame(random_3).iloc[:,[2]].astype(np.float)\n",
      "C:\\Users\\user\\AppData\\Local\\Temp/ipykernel_18440/3061209190.py:16: DeprecationWarning: `np.float` is a deprecated alias for the builtin `float`. To silence this warning, use `float` by itself. Doing this will not modify any behavior and is safe. If you specifically wanted the numpy scalar type, use `np.float64` here.\n",
      "Deprecated in NumPy 1.20; for more details and guidance: https://numpy.org/devdocs/release/1.20.0-notes.html#deprecations\n",
      "  mse_3 = pd.DataFrame(dwave_3).iloc[:,[1]].astype(np.float)\n",
      "C:\\Users\\user\\AppData\\Local\\Temp/ipykernel_18440/3061209190.py:17: DeprecationWarning: `np.float` is a deprecated alias for the builtin `float`. To silence this warning, use `float` by itself. Doing this will not modify any behavior and is safe. If you specifically wanted the numpy scalar type, use `np.float64` here.\n",
      "Deprecated in NumPy 1.20; for more details and guidance: https://numpy.org/devdocs/release/1.20.0-notes.html#deprecations\n",
      "  aic_3 = pd.DataFrame(dwave_3).iloc[:,[2]].astype(np.float)\n",
      "C:\\Users\\user\\AppData\\Local\\Temp/ipykernel_18440/3061209190.py:18: DeprecationWarning: `np.float` is a deprecated alias for the builtin `float`. To silence this warning, use `float` by itself. Doing this will not modify any behavior and is safe. If you specifically wanted the numpy scalar type, use `np.float64` here.\n",
      "Deprecated in NumPy 1.20; for more details and guidance: https://numpy.org/devdocs/release/1.20.0-notes.html#deprecations\n",
      "  cn_3 = pd.DataFrame(dwave_3).iloc[:,[3]].astype(np.float)\n"
     ]
    }
   ],
   "source": []
  },
  {
   "cell_type": "code",
   "execution_count": null,
   "id": "0a4991c5",
   "metadata": {},
   "outputs": [],
   "source": []
  },
  {
   "cell_type": "code",
   "execution_count": null,
   "id": "acaba32a",
   "metadata": {},
   "outputs": [],
   "source": []
  },
  {
   "cell_type": "code",
   "execution_count": null,
   "id": "afbd97cd",
   "metadata": {},
   "outputs": [],
   "source": []
  },
  {
   "cell_type": "code",
   "execution_count": 93,
   "id": "f1560dd8",
   "metadata": {},
   "outputs": [],
   "source": [
    "#### Data 3\n",
    "x3,y3 = kqc_custom.generate_dependent_sample(1000,200,beta_coef=[10,10,10,10,10,10,10,10,10,10,10,10,10,10,10,10,10,10,10,10],epsilon = 0.5)"
   ]
  },
  {
   "cell_type": "code",
   "execution_count": 94,
   "id": "f580daf8",
   "metadata": {},
   "outputs": [
    {
     "data": {
      "text/plain": [
       "(array([[0.20187164]]), array([[-1269.2007574]]), 1843.7264593466841)"
      ]
     },
     "execution_count": 94,
     "metadata": {},
     "output_type": "execute_result"
    }
   ],
   "source": [
    "# Real Variables\n",
    "full_3 = full(x3,y3)\n",
    "full_3"
   ]
  },
  {
   "cell_type": "code",
   "execution_count": 95,
   "id": "b68545f4",
   "metadata": {},
   "outputs": [
    {
     "data": {
      "text/plain": [
       "(array([[0.25229335]]), array([[-1406.2403153]]), 3.032930823915677)"
      ]
     },
     "execution_count": 95,
     "metadata": {},
     "output_type": "execute_result"
    }
   ],
   "source": [
    "# True Variables\n",
    "true_3 = full(pd.DataFrame(x3).iloc[:,[0,1,2,3,4,5,6,7,8,9,10,11,12,13,14,15,16,17,18,19]],y3)\n",
    "true_3"
   ]
  },
  {
   "cell_type": "code",
   "execution_count": 96,
   "id": "6a2ba435",
   "metadata": {},
   "outputs": [
    {
     "data": {
      "text/plain": [
       "[(array([[10062.66366117]]), array([[9377.50963327]]), 45.41915169670707),\n",
       " (array([[21193.27359399]]), array([[10082.36157422]]), 25.712740785121436),\n",
       " (array([[15768.71132106]]), array([[9800.70540671]]), 35.20737329661379),\n",
       " (array([[15913.69037963]]), array([[9793.85749511]]), 38.04262442503994),\n",
       " (array([[11405.23431221]]), array([[9474.75012641]]), 38.37201986948897),\n",
       " (array([[8430.64549587]]), array([[9188.55106655]]), 39.238938788816476),\n",
       " (array([[13986.95001916]]), array([[9672.8024796]]), 32.40836076771859),\n",
       " (array([[18666.33781346]]), array([[9961.39951097]]), 28.49203109939392),\n",
       " (array([[15738.61077335]]), array([[9782.79470438]]), 35.40738389893729),\n",
       " (array([[18025.50827947]]), array([[9924.46560755]]), 33.72536116079388)]"
      ]
     },
     "execution_count": 96,
     "metadata": {},
     "output_type": "execute_result"
    }
   ],
   "source": [
    "# Random Variables\n",
    "\n",
    "random_3=[]\n",
    "for i in range(10):\n",
    "    random_3.append(random(x3,y3))\n",
    "random_3"
   ]
  },
  {
   "cell_type": "code",
   "execution_count": 97,
   "id": "5a31c745",
   "metadata": {},
   "outputs": [],
   "source": [
    "# Dwave Selected\n",
    "\n",
    "dwave_3=[]\n",
    "for i in range(10):\n",
    "    dwave_3.append(dwave(x3,y3))"
   ]
  },
  {
   "cell_type": "code",
   "execution_count": 98,
   "id": "1807a2e0",
   "metadata": {
    "scrolled": true
   },
   "outputs": [
    {
     "data": {
      "text/html": [
       "<div>\n",
       "<style scoped>\n",
       "    .dataframe tbody tr th:only-of-type {\n",
       "        vertical-align: middle;\n",
       "    }\n",
       "\n",
       "    .dataframe tbody tr th {\n",
       "        vertical-align: top;\n",
       "    }\n",
       "\n",
       "    .dataframe thead th {\n",
       "        text-align: right;\n",
       "    }\n",
       "</style>\n",
       "<table border=\"1\" class=\"dataframe\">\n",
       "  <thead>\n",
       "    <tr style=\"text-align: right;\">\n",
       "      <th></th>\n",
       "      <th>0</th>\n",
       "      <th>1</th>\n",
       "      <th>2</th>\n",
       "      <th>3</th>\n",
       "    </tr>\n",
       "  </thead>\n",
       "  <tbody>\n",
       "    <tr>\n",
       "      <th>0</th>\n",
       "      <td>{'x000': 1.0, 'x001': 1.0, 'x002': 1.0, 'x003'...</td>\n",
       "      <td>[[0.23126608176230004]]</td>\n",
       "      <td>[[-1335.263915041517]]</td>\n",
       "      <td>30.267879</td>\n",
       "    </tr>\n",
       "    <tr>\n",
       "      <th>1</th>\n",
       "      <td>{'x000': 1.0, 'x001': 1.0, 'x002': 1.0, 'x003'...</td>\n",
       "      <td>[[0.23111927129656873]]</td>\n",
       "      <td>[[-1333.8989285413759]]</td>\n",
       "      <td>35.049315</td>\n",
       "    </tr>\n",
       "    <tr>\n",
       "      <th>2</th>\n",
       "      <td>{'x000': 1.0, 'x001': 1.0, 'x002': 1.0, 'x003'...</td>\n",
       "      <td>[[1121.131608452793]]</td>\n",
       "      <td>[[7155.016266114455]]</td>\n",
       "      <td>35.484520</td>\n",
       "    </tr>\n",
       "    <tr>\n",
       "      <th>3</th>\n",
       "      <td>{'x000': 1.0, 'x001': 1.0, 'x002': 1.0, 'x003'...</td>\n",
       "      <td>[[1700.0724244856776]]</td>\n",
       "      <td>[[7569.348578985653]]</td>\n",
       "      <td>29.956180</td>\n",
       "    </tr>\n",
       "    <tr>\n",
       "      <th>4</th>\n",
       "      <td>{'x000': 1.0, 'x001': 1.0, 'x002': 1.0, 'x003'...</td>\n",
       "      <td>[[0.2309618515534605]]</td>\n",
       "      <td>[[-1334.5802796782814]]</td>\n",
       "      <td>33.203201</td>\n",
       "    </tr>\n",
       "    <tr>\n",
       "      <th>5</th>\n",
       "      <td>{'x000': 1.0, 'x001': 1.0, 'x002': 1.0, 'x003'...</td>\n",
       "      <td>[[0.230707618032568]]</td>\n",
       "      <td>[[-1335.6816457565685]]</td>\n",
       "      <td>31.081484</td>\n",
       "    </tr>\n",
       "    <tr>\n",
       "      <th>6</th>\n",
       "      <td>{'x000': 1.0, 'x001': 1.0, 'x002': 1.0, 'x003'...</td>\n",
       "      <td>[[0.2269474902929292]]</td>\n",
       "      <td>[[-1352.1141613446878]]</td>\n",
       "      <td>31.944218</td>\n",
       "    </tr>\n",
       "    <tr>\n",
       "      <th>7</th>\n",
       "      <td>{'x000': 1.0, 'x001': 1.0, 'x002': 1.0, 'x003'...</td>\n",
       "      <td>[[2680.8358701789866]]</td>\n",
       "      <td>[[8024.806363944757]]</td>\n",
       "      <td>27.934654</td>\n",
       "    </tr>\n",
       "    <tr>\n",
       "      <th>8</th>\n",
       "      <td>{'x000': 1.0, 'x001': 1.0, 'x002': 1.0, 'x003'...</td>\n",
       "      <td>[[0.22662545620176658]]</td>\n",
       "      <td>[[-1351.5341496740755]]</td>\n",
       "      <td>36.966266</td>\n",
       "    </tr>\n",
       "    <tr>\n",
       "      <th>9</th>\n",
       "      <td>{'x000': 1.0, 'x001': 1.0, 'x002': 1.0, 'x003'...</td>\n",
       "      <td>[[0.2303807175402145]]</td>\n",
       "      <td>[[-1335.0995976842366]]</td>\n",
       "      <td>35.451214</td>\n",
       "    </tr>\n",
       "  </tbody>\n",
       "</table>\n",
       "</div>"
      ],
      "text/plain": [
       "                                                   0                        1  \\\n",
       "0  {'x000': 1.0, 'x001': 1.0, 'x002': 1.0, 'x003'...  [[0.23126608176230004]]   \n",
       "1  {'x000': 1.0, 'x001': 1.0, 'x002': 1.0, 'x003'...  [[0.23111927129656873]]   \n",
       "2  {'x000': 1.0, 'x001': 1.0, 'x002': 1.0, 'x003'...    [[1121.131608452793]]   \n",
       "3  {'x000': 1.0, 'x001': 1.0, 'x002': 1.0, 'x003'...   [[1700.0724244856776]]   \n",
       "4  {'x000': 1.0, 'x001': 1.0, 'x002': 1.0, 'x003'...   [[0.2309618515534605]]   \n",
       "5  {'x000': 1.0, 'x001': 1.0, 'x002': 1.0, 'x003'...    [[0.230707618032568]]   \n",
       "6  {'x000': 1.0, 'x001': 1.0, 'x002': 1.0, 'x003'...   [[0.2269474902929292]]   \n",
       "7  {'x000': 1.0, 'x001': 1.0, 'x002': 1.0, 'x003'...   [[2680.8358701789866]]   \n",
       "8  {'x000': 1.0, 'x001': 1.0, 'x002': 1.0, 'x003'...  [[0.22662545620176658]]   \n",
       "9  {'x000': 1.0, 'x001': 1.0, 'x002': 1.0, 'x003'...   [[0.2303807175402145]]   \n",
       "\n",
       "                         2          3  \n",
       "0   [[-1335.263915041517]]  30.267879  \n",
       "1  [[-1333.8989285413759]]  35.049315  \n",
       "2    [[7155.016266114455]]  35.484520  \n",
       "3    [[7569.348578985653]]  29.956180  \n",
       "4  [[-1334.5802796782814]]  33.203201  \n",
       "5  [[-1335.6816457565685]]  31.081484  \n",
       "6  [[-1352.1141613446878]]  31.944218  \n",
       "7    [[8024.806363944757]]  27.934654  \n",
       "8  [[-1351.5341496740755]]  36.966266  \n",
       "9  [[-1335.0995976842366]]  35.451214  "
      ]
     },
     "execution_count": 98,
     "metadata": {},
     "output_type": "execute_result"
    }
   ],
   "source": [
    "pd.DataFrame(dwave_3)"
   ]
  },
  {
   "cell_type": "code",
   "execution_count": null,
   "id": "fdc2c52d",
   "metadata": {},
   "outputs": [],
   "source": [
    "# 데이터 저장\n",
    "\n",
    "data_x_3=pd.DataFrame(x3)\n",
    "data_y_3=pd.DataFrame(y3)\n",
    "data_x_3.to_excel('data_x3.xlsx')\n",
    "data_y_3.to_excel('data_y3.xlsx')\n",
    "pd.DataFrame(full_3).to_excel('data_x3_full.xlsx')\n",
    "pd.DataFrame(true_3).to_excel('data_x3_true.xlsx')\n",
    "pd.DataFrame(random_3).to_excel('data_x3_random.xlsx')\n",
    "pd.DataFrame(dwave_3).to_excel('data_x3_dwave.xlsx')\n",
    "\n",
    "# 그래프 만들기\n",
    "mse_r_3 = pd.DataFrame(random_3).iloc[:,[0]].astype(np.float)\n",
    "aic_r_3 = pd.DataFrame(random_3).iloc[:,[1]].astype(np.float)\n",
    "cn_r_3 = pd.DataFrame(random_3).iloc[:,[2]].astype(np.float)\n",
    "mse_3 = pd.DataFrame(dwave_3).iloc[:,[1]].astype(np.float)\n",
    "aic_3 = pd.DataFrame(dwave_3).iloc[:,[2]].astype(np.float)\n",
    "cn_3 = pd.DataFrame(dwave_3).iloc[:,[3]].astype(np.float)"
   ]
  },
  {
   "cell_type": "code",
   "execution_count": 321,
   "id": "0fbe73f4",
   "metadata": {},
   "outputs": [
    {
     "data": {
      "image/png": "[encoded data removed]",
      "text/plain": [
       "<Figure size 200x400 with 1 Axes>"
      ]
     },
     "metadata": {},
     "output_type": "display_data"
    }
   ],
   "source": [
    "# Data 3 mse\n",
    "\n",
    "plt.style.use('default')\n",
    "plt.rcParams['figure.figsize'] = (2, 4)\n",
    "plt.rcParams['font.size'] = 12\n",
    "\n",
    "fig, ax = plt.subplots()\n",
    "\n",
    "ax.boxplot(mse_3.T.append(mse_r_3.T).T)\n",
    "#ax.boxplot(mse_r)\n",
    "#ax.boxplot(mse_r_1)\n",
    "ax.set_xlabel('MSE3')\n",
    "plt.xticks([1,2], ['Dwave',\"Random\"])\n",
    "\n",
    "plt.axhline(full_3[0], 0.1, 0.9, color='Blue', linestyle='-', linewidth=2)\n",
    "ax.text(0,(full_1[0]),f'Full:  ',fontsize=8)\n",
    "plt.axhline(true_3[0], 0.1, 0.9, color='Red', linestyle='-', linewidth=2)\n",
    "ax.text(0,(true_3[0]),f'True:  ',fontsize=8)\n",
    "plt.yscale('log', base=10)\n",
    "plt.show()"
   ]
  },
  {
   "cell_type": "code",
   "execution_count": 329,
   "id": "7bcd73f5",
   "metadata": {},
   "outputs": [
    {
     "data": {
      "image/png": "[encoded data removed]",
      "text/plain": [
       "<Figure size 200x400 with 1 Axes>"
      ]
     },
     "metadata": {},
     "output_type": "display_data"
    }
   ],
   "source": [
    "# Data 3  AIC\n",
    "\n",
    "plt.style.use('default')\n",
    "plt.rcParams['figure.figsize'] = (2, 4)\n",
    "plt.rcParams['font.size'] = 12\n",
    "\n",
    "fig, ax = plt.subplots()\n",
    "\n",
    "ax.boxplot(aic_3.T.append(aic_r_3.T).T)\n",
    "#ax.boxplot(mse_r)\n",
    "#ax.boxplot(mse_r_1)\n",
    "ax.set_xlabel('AIC')\n",
    "ax.set_ylabel('Value')\n",
    "plt.xticks([1,2], ['Dwave',\"Random\"])\n",
    "\n",
    "plt.axhline(full_3[1], 0.1, 0.9, color='Blue', linestyle='-', linewidth=2)\n",
    "ax.text(0,(full_3[1]),f'Full:  ',fontsize=8)\n",
    "plt.axhline(true_3[1], 0.1, 0.9, color='Red', linestyle='-', linewidth=2)\n",
    "ax.text(0,(true_3[1]),f'True:  ',fontsize=8)\n",
    "#plt.yscale('log', base=10)\n",
    "plt.title(\"AIC-3\")\n",
    "plt.show()"
   ]
  },
  {
   "cell_type": "code",
   "execution_count": 325,
   "id": "c9e7ceea",
   "metadata": {},
   "outputs": [
    {
     "data": {
      "image/png": "[encoded data removed]",
      "text/plain": [
       "<Figure size 200x400 with 1 Axes>"
      ]
     },
     "metadata": {},
     "output_type": "display_data"
    }
   ],
   "source": [
    "# Data 3  AIC _without random\n",
    "\n",
    "plt.style.use('default')\n",
    "plt.rcParams['figure.figsize'] = (2, 4)\n",
    "plt.rcParams['font.size'] = 12\n",
    "\n",
    "fig, ax = plt.subplots()\n",
    "\n",
    "#ax.boxplot(aic_3.T.append(aic_r_3.T).T)\n",
    "ax.boxplot(aic_3)\n",
    "#ax.boxplot(mse_r_1)\n",
    "ax.set_xlabel('AIC')\n",
    "ax.set_ylabel('Value')\n",
    "plt.xticks([1], ['Dwave'])\n",
    "\n",
    "plt.axhline(full_3[1], 0.1, 0.9, color='Blue', linestyle='-', linewidth=2)\n",
    "ax.text(0,(full_3[1]),f'Full:  ',fontsize=8)\n",
    "plt.axhline(true_3[1], 0.1, 0.9, color='Red', linestyle='-', linewidth=2)\n",
    "ax.text(0,(true_3[1]),f'True:  ',fontsize=8)\n",
    "#plt.yscale('log', base=10)\n",
    "plt.show()"
   ]
  },
  {
   "cell_type": "code",
   "execution_count": 328,
   "id": "6768145a",
   "metadata": {},
   "outputs": [
    {
     "data": {
      "image/png": "[encoded data removed]",
      "text/plain": [
       "<Figure size 200x400 with 1 Axes>"
      ]
     },
     "metadata": {},
     "output_type": "display_data"
    }
   ],
   "source": [
    "# Data 3  CN\n",
    "\n",
    "plt.style.use('default')\n",
    "plt.rcParams['figure.figsize'] = (2, 4)\n",
    "plt.rcParams['font.size'] = 12\n",
    "\n",
    "fig, ax = plt.subplots()\n",
    "\n",
    "ax.boxplot(cn_2.T.append(cn_r_2.T).T)\n",
    "#ax.boxplot(mse_r)\n",
    "#ax.boxplot(mse_r_1)\n",
    "ax.set_xlabel('CN')\n",
    "ax.set_ylabel('Value')\n",
    "plt.xticks([1,2], ['Dwave',\"Random\"])\n",
    "\n",
    "plt.axhline(full_3[2], 0.1, 0.9, color='Blue', linestyle='-', linewidth=2)\n",
    "ax.text(0,(full_3[2]),f'Full:  ',fontsize=8)\n",
    "plt.axhline(true_3[2], 0.1, 0.9, color='Red', linestyle='-', linewidth=2)\n",
    "ax.text(0,(true_3[2]),f'True:  ',fontsize=8)\n",
    "plt.yscale('log', base=10)\n",
    "plt.title(\"CN-3\")\n",
    "plt.show()"
   ]
  },
  {
   "cell_type": "code",
   "execution_count": null,
   "id": "9eb2d2d6",
   "metadata": {},
   "outputs": [],
   "source": []
  },
  {
   "cell_type": "code",
   "execution_count": 99,
   "id": "fa4b533e",
   "metadata": {},
   "outputs": [],
   "source": [
    "#### Data 4\n",
    "x4,y4 = kqc_custom.generate_dependent_sample(1000,200,beta_coef=[10,10,9,9,8,8,7,7,6,6,5,5,4,4,3],epsilon = 1)"
   ]
  },
  {
   "cell_type": "code",
   "execution_count": 100,
   "id": "d6804d37",
   "metadata": {},
   "outputs": [
    {
     "data": {
      "text/plain": [
       "(array([[0.79763379]]), array([[104.81674778]]), 1855.9786653210488)"
      ]
     },
     "execution_count": 100,
     "metadata": {},
     "output_type": "execute_result"
    }
   ],
   "source": [
    "# Real Variables\n",
    "full_4 = full(x4,y4)\n",
    "full_4"
   ]
  },
  {
   "cell_type": "code",
   "execution_count": 101,
   "id": "89e36112",
   "metadata": {
    "scrolled": true
   },
   "outputs": [
    {
     "data": {
      "text/plain": [
       "(array([[0.96874249]]), array([[-68.83400417]]), 2.509807996677402)"
      ]
     },
     "execution_count": 101,
     "metadata": {},
     "output_type": "execute_result"
    }
   ],
   "source": [
    "# True Variables\n",
    "true_4 = full(pd.DataFrame(x4).iloc[:,[0,1,2,3,4,5,6,7,8,9,10,11,12,13,14,15]],y4)\n",
    "true_4"
   ]
  },
  {
   "cell_type": "code",
   "execution_count": 102,
   "id": "57c6393b",
   "metadata": {},
   "outputs": [
    {
     "data": {
      "text/plain": [
       "[(array([[6459.16831445]]), array([[8878.17829181]]), 24.733007546059657),\n",
       " (array([[2936.28247017]]), array([[8137.8220415]]), 59.60851690779209),\n",
       " (array([[6637.63474295]]), array([[8931.43341281]]), 27.736255396570403),\n",
       " (array([[4694.28347133]]), array([[8577.02321194]]), 32.58781041470096),\n",
       " (array([[6486.31982816]]), array([[8916.3730434]]), 37.243675334334775),\n",
       " (array([[9735.2024621]]), array([[9310.42616214]]), 37.52228858684979),\n",
       " (array([[3345.7867805]]), array([[8236.37960303]]), 29.90470842452791),\n",
       " (array([[5110.81831136]]), array([[8696.0372568]]), 51.19953612923274),\n",
       " (array([[8531.66703016]]), array([[9180.46250004]]), 33.0426606689784),\n",
       " (array([[6864.4185197]]), array([[8947.02905967]]), 25.77478688231648)]"
      ]
     },
     "execution_count": 102,
     "metadata": {},
     "output_type": "execute_result"
    }
   ],
   "source": [
    "# Random Variables\n",
    "\n",
    "random_4=[]\n",
    "for i in range(10):\n",
    "    random_4.append(random(x4,y4))\n",
    "random_4"
   ]
  },
  {
   "cell_type": "code",
   "execution_count": 103,
   "id": "86e1a128",
   "metadata": {},
   "outputs": [],
   "source": [
    "# Dwave Selected\n",
    "\n",
    "dwave_4=[]\n",
    "for i in range(10):\n",
    "    dwave_4.append(dwave(x4,y4))"
   ]
  },
  {
   "cell_type": "code",
   "execution_count": 104,
   "id": "722ba136",
   "metadata": {
    "scrolled": true
   },
   "outputs": [
    {
     "data": {
      "text/html": [
       "<div>\n",
       "<style scoped>\n",
       "    .dataframe tbody tr th:only-of-type {\n",
       "        vertical-align: middle;\n",
       "    }\n",
       "\n",
       "    .dataframe tbody tr th {\n",
       "        vertical-align: top;\n",
       "    }\n",
       "\n",
       "    .dataframe thead th {\n",
       "        text-align: right;\n",
       "    }\n",
       "</style>\n",
       "<table border=\"1\" class=\"dataframe\">\n",
       "  <thead>\n",
       "    <tr style=\"text-align: right;\">\n",
       "      <th></th>\n",
       "      <th>0</th>\n",
       "      <th>1</th>\n",
       "      <th>2</th>\n",
       "      <th>3</th>\n",
       "    </tr>\n",
       "  </thead>\n",
       "  <tbody>\n",
       "    <tr>\n",
       "      <th>0</th>\n",
       "      <td>{'x000': 1.0, 'x001': 1.0, 'x002': 1.0, 'x003'...</td>\n",
       "      <td>[[0.8921726655985665]]</td>\n",
       "      <td>[[18.826853374385735]]</td>\n",
       "      <td>30.539553</td>\n",
       "    </tr>\n",
       "    <tr>\n",
       "      <th>1</th>\n",
       "      <td>{'x000': 1.0, 'x001': 1.0, 'x002': 1.0, 'x003'...</td>\n",
       "      <td>[[0.8847130679681623]]</td>\n",
       "      <td>[[8.430543681154063]]</td>\n",
       "      <td>26.908480</td>\n",
       "    </tr>\n",
       "    <tr>\n",
       "      <th>2</th>\n",
       "      <td>{'x000': 1.0, 'x001': 1.0, 'x002': 1.0, 'x003'...</td>\n",
       "      <td>[[0.8963020084734729]]</td>\n",
       "      <td>[[23.444587438420513]]</td>\n",
       "      <td>32.149740</td>\n",
       "    </tr>\n",
       "    <tr>\n",
       "      <th>3</th>\n",
       "      <td>{'x000': 1.0, 'x001': 1.0, 'x002': 1.0, 'x003'...</td>\n",
       "      <td>[[919.9361342590804]]</td>\n",
       "      <td>[[6955.226695560026]]</td>\n",
       "      <td>29.606773</td>\n",
       "    </tr>\n",
       "    <tr>\n",
       "      <th>4</th>\n",
       "      <td>{'x000': 1.0, 'x001': 1.0, 'x002': 1.0, 'x003'...</td>\n",
       "      <td>[[0.8810353396493307]]</td>\n",
       "      <td>[[4.264906469054267]]</td>\n",
       "      <td>29.931667</td>\n",
       "    </tr>\n",
       "    <tr>\n",
       "      <th>5</th>\n",
       "      <td>{'x000': 1.0, 'x001': 1.0, 'x002': 1.0, 'x003'...</td>\n",
       "      <td>[[0.8883191015602073]]</td>\n",
       "      <td>[[12.498195273802764]]</td>\n",
       "      <td>31.512136</td>\n",
       "    </tr>\n",
       "    <tr>\n",
       "      <th>6</th>\n",
       "      <td>{'x000': 1.0, 'x001': 1.0, 'x002': 1.0, 'x003'...</td>\n",
       "      <td>[[429.39818922384546]]</td>\n",
       "      <td>[[6195.307115654457]]</td>\n",
       "      <td>29.652730</td>\n",
       "    </tr>\n",
       "    <tr>\n",
       "      <th>7</th>\n",
       "      <td>{'x000': 1.0, 'x001': 1.0, 'x002': 1.0, 'x003'...</td>\n",
       "      <td>[[0.8779702352660066]]</td>\n",
       "      <td>[[2.779860680326692]]</td>\n",
       "      <td>30.653609</td>\n",
       "    </tr>\n",
       "    <tr>\n",
       "      <th>8</th>\n",
       "      <td>{'x000': 1.0, 'x001': 1.0, 'x002': 1.0, 'x003'...</td>\n",
       "      <td>[[0.8832975966116711]]</td>\n",
       "      <td>[[8.829341055774023]]</td>\n",
       "      <td>30.896524</td>\n",
       "    </tr>\n",
       "    <tr>\n",
       "      <th>9</th>\n",
       "      <td>{'x000': 1.0, 'x001': 1.0, 'x002': 1.0, 'x003'...</td>\n",
       "      <td>[[0.8840083115657705]]</td>\n",
       "      <td>[[7.633633045206693]]</td>\n",
       "      <td>28.893408</td>\n",
       "    </tr>\n",
       "  </tbody>\n",
       "</table>\n",
       "</div>"
      ],
      "text/plain": [
       "                                                   0                       1  \\\n",
       "0  {'x000': 1.0, 'x001': 1.0, 'x002': 1.0, 'x003'...  [[0.8921726655985665]]   \n",
       "1  {'x000': 1.0, 'x001': 1.0, 'x002': 1.0, 'x003'...  [[0.8847130679681623]]   \n",
       "2  {'x000': 1.0, 'x001': 1.0, 'x002': 1.0, 'x003'...  [[0.8963020084734729]]   \n",
       "3  {'x000': 1.0, 'x001': 1.0, 'x002': 1.0, 'x003'...   [[919.9361342590804]]   \n",
       "4  {'x000': 1.0, 'x001': 1.0, 'x002': 1.0, 'x003'...  [[0.8810353396493307]]   \n",
       "5  {'x000': 1.0, 'x001': 1.0, 'x002': 1.0, 'x003'...  [[0.8883191015602073]]   \n",
       "6  {'x000': 1.0, 'x001': 1.0, 'x002': 1.0, 'x003'...  [[429.39818922384546]]   \n",
       "7  {'x000': 1.0, 'x001': 1.0, 'x002': 1.0, 'x003'...  [[0.8779702352660066]]   \n",
       "8  {'x000': 1.0, 'x001': 1.0, 'x002': 1.0, 'x003'...  [[0.8832975966116711]]   \n",
       "9  {'x000': 1.0, 'x001': 1.0, 'x002': 1.0, 'x003'...  [[0.8840083115657705]]   \n",
       "\n",
       "                        2          3  \n",
       "0  [[18.826853374385735]]  30.539553  \n",
       "1   [[8.430543681154063]]  26.908480  \n",
       "2  [[23.444587438420513]]  32.149740  \n",
       "3   [[6955.226695560026]]  29.606773  \n",
       "4   [[4.264906469054267]]  29.931667  \n",
       "5  [[12.498195273802764]]  31.512136  \n",
       "6   [[6195.307115654457]]  29.652730  \n",
       "7   [[2.779860680326692]]  30.653609  \n",
       "8   [[8.829341055774023]]  30.896524  \n",
       "9   [[7.633633045206693]]  28.893408  "
      ]
     },
     "execution_count": 104,
     "metadata": {},
     "output_type": "execute_result"
    }
   ],
   "source": [
    "pd.DataFrame(dwave_4)"
   ]
  },
  {
   "cell_type": "code",
   "execution_count": 343,
   "id": "586ef010",
   "metadata": {},
   "outputs": [
    {
     "name": "stderr",
     "output_type": "stream",
     "text": [
      "C:\\Users\\user\\anaconda3\\lib\\site-packages\\pandas\\core\\internals\\construction.py:540: VisibleDeprecationWarning: Creating an ndarray from ragged nested sequences (which is a list-or-tuple of lists-or-tuples-or ndarrays with different lengths or shapes) is deprecated. If you meant to do this, you must specify 'dtype=object' when creating the ndarray.\n",
      "  values = np.array([convert(v) for v in values])\n",
      "C:\\Users\\user\\AppData\\Local\\Temp/ipykernel_18440/1722453260.py:13: DeprecationWarning: `np.float` is a deprecated alias for the builtin `float`. To silence this warning, use `float` by itself. Doing this will not modify any behavior and is safe. If you specifically wanted the numpy scalar type, use `np.float64` here.\n",
      "Deprecated in NumPy 1.20; for more details and guidance: https://numpy.org/devdocs/release/1.20.0-notes.html#deprecations\n",
      "  mse_r_4 = pd.DataFrame(random_4).iloc[:,[0]].astype(np.float)\n",
      "C:\\Users\\user\\AppData\\Local\\Temp/ipykernel_18440/1722453260.py:14: DeprecationWarning: `np.float` is a deprecated alias for the builtin `float`. To silence this warning, use `float` by itself. Doing this will not modify any behavior and is safe. If you specifically wanted the numpy scalar type, use `np.float64` here.\n",
      "Deprecated in NumPy 1.20; for more details and guidance: https://numpy.org/devdocs/release/1.20.0-notes.html#deprecations\n",
      "  aic_r_4 = pd.DataFrame(random_4).iloc[:,[1]].astype(np.float)\n",
      "C:\\Users\\user\\AppData\\Local\\Temp/ipykernel_18440/1722453260.py:15: DeprecationWarning: `np.float` is a deprecated alias for the builtin `float`. To silence this warning, use `float` by itself. Doing this will not modify any behavior and is safe. If you specifically wanted the numpy scalar type, use `np.float64` here.\n",
      "Deprecated in NumPy 1.20; for more details and guidance: https://numpy.org/devdocs/release/1.20.0-notes.html#deprecations\n",
      "  cn_r_4 = pd.DataFrame(random_4).iloc[:,[2]].astype(np.float)\n",
      "C:\\Users\\user\\AppData\\Local\\Temp/ipykernel_18440/1722453260.py:16: DeprecationWarning: `np.float` is a deprecated alias for the builtin `float`. To silence this warning, use `float` by itself. Doing this will not modify any behavior and is safe. If you specifically wanted the numpy scalar type, use `np.float64` here.\n",
      "Deprecated in NumPy 1.20; for more details and guidance: https://numpy.org/devdocs/release/1.20.0-notes.html#deprecations\n",
      "  mse_4 = pd.DataFrame(dwave_4).iloc[:,[1]].astype(np.float)\n",
      "C:\\Users\\user\\AppData\\Local\\Temp/ipykernel_18440/1722453260.py:17: DeprecationWarning: `np.float` is a deprecated alias for the builtin `float`. To silence this warning, use `float` by itself. Doing this will not modify any behavior and is safe. If you specifically wanted the numpy scalar type, use `np.float64` here.\n",
      "Deprecated in NumPy 1.20; for more details and guidance: https://numpy.org/devdocs/release/1.20.0-notes.html#deprecations\n",
      "  aic_4 = pd.DataFrame(dwave_4).iloc[:,[2]].astype(np.float)\n",
      "C:\\Users\\user\\AppData\\Local\\Temp/ipykernel_18440/1722453260.py:18: DeprecationWarning: `np.float` is a deprecated alias for the builtin `float`. To silence this warning, use `float` by itself. Doing this will not modify any behavior and is safe. If you specifically wanted the numpy scalar type, use `np.float64` here.\n",
      "Deprecated in NumPy 1.20; for more details and guidance: https://numpy.org/devdocs/release/1.20.0-notes.html#deprecations\n",
      "  cn_4 = pd.DataFrame(dwave_4).iloc[:,[3]].astype(np.float)\n"
     ]
    }
   ],
   "source": [
    "# 데이터 저장\n",
    "\n",
    "data_x_4=pd.DataFrame(x4)\n",
    "data_y_4=pd.DataFrame(y4)\n",
    "data_x_4.to_excel('data_x4.xlsx')\n",
    "data_y_4.to_excel('data_y4.xlsx')\n",
    "pd.DataFrame(full_4).to_excel('data_x4_full.xlsx')\n",
    "pd.DataFrame(true_4).to_excel('data_x4_true.xlsx')\n",
    "pd.DataFrame(random_4).to_excel('data_x4_random.xlsx')\n",
    "pd.DataFrame(dwave_4).to_excel('data_x4_dwave.xlsx')\n",
    "\n",
    "# 그래프 만들기\n",
    "mse_r_4 = pd.DataFrame(random_4).iloc[:,[0]].astype(np.float)\n",
    "aic_r_4 = pd.DataFrame(random_4).iloc[:,[1]].astype(np.float)\n",
    "cn_r_4 = pd.DataFrame(random_4).iloc[:,[2]].astype(np.float)\n",
    "mse_4 = pd.DataFrame(dwave_4).iloc[:,[1]].astype(np.float)\n",
    "aic_4 = pd.DataFrame(dwave_4).iloc[:,[2]].astype(np.float)\n",
    "cn_4 = pd.DataFrame(dwave_4).iloc[:,[3]].astype(np.float)"
   ]
  },
  {
   "cell_type": "code",
   "execution_count": null,
   "id": "f9633f18",
   "metadata": {},
   "outputs": [],
   "source": [
    "                    "
   ]
  },
  {
   "cell_type": "code",
   "execution_count": 105,
   "id": "8243a862",
   "metadata": {},
   "outputs": [],
   "source": [
    "#### Data 5\n",
    "x5,y5 = kqc_custom.generate_dependent_sample(500,200,beta_coef=[5,5,5,5,5,5,5,5,5,5],epsilon = 0.5)"
   ]
  },
  {
   "cell_type": "code",
   "execution_count": 106,
   "id": "520b12c8",
   "metadata": {},
   "outputs": [
    {
     "data": {
      "text/plain": [
       "(array([[0.16798996]]), array([[-554.07161157]]), 2930.59636629644)"
      ]
     },
     "execution_count": 106,
     "metadata": {},
     "output_type": "execute_result"
    }
   ],
   "source": [
    "# Real Variables\n",
    "full_5 = full(x5,y5)\n",
    "full_5"
   ]
  },
  {
   "cell_type": "code",
   "execution_count": 107,
   "id": "423bc4f9",
   "metadata": {},
   "outputs": [
    {
     "data": {
      "text/plain": [
       "(array([[0.27086171]]), array([[-695.21951991]]), 2.419215634911562)"
      ]
     },
     "execution_count": 107,
     "metadata": {},
     "output_type": "execute_result"
    }
   ],
   "source": [
    "# True Variables\n",
    "true_5 = full(pd.DataFrame(x5).iloc[:,[0,1,2,3,4,5,6,7,8,9]],y5)\n",
    "true_5"
   ]
  },
  {
   "cell_type": "code",
   "execution_count": 108,
   "id": "6535a1de",
   "metadata": {},
   "outputs": [
    {
     "data": {
      "text/plain": [
       "[(array([[835.54122784]]), array([[3519.89376498]]), 58.00223026008877),\n",
       " (array([[1337.28734433]]), array([[3743.05315463]]), 51.057432115373516),\n",
       " (array([[1641.34454641]]), array([[3835.48943417]]), 40.387723629081485),\n",
       " (array([[1698.84880924]]), array([[3874.70698383]]), 77.03261276828734),\n",
       " (array([[1237.96472783]]), array([[3712.46589981]]), 65.5453750498894),\n",
       " (array([[1655.83281066]]), array([[3827.88360407]]), 38.605991397547896),\n",
       " (array([[1060.22585674]]), array([[3628.97253742]]), 49.658216796181094),\n",
       " (array([[1732.46903299]]), array([[3884.50534738]]), 68.72424660645066),\n",
       " (array([[1309.92399102]]), array([[3730.71611521]]), 58.85211032953789),\n",
       " (array([[1165.36421775]]), array([[3666.24839421]]), 42.28365699820714)]"
      ]
     },
     "execution_count": 108,
     "metadata": {},
     "output_type": "execute_result"
    }
   ],
   "source": [
    "# Random Variables\n",
    "\n",
    "random_5=[]\n",
    "for i in range(10):\n",
    "    random_5.append(random(x5,y5))\n",
    "random_5"
   ]
  },
  {
   "cell_type": "code",
   "execution_count": 109,
   "id": "ed7077cb",
   "metadata": {
    "scrolled": true
   },
   "outputs": [
    {
     "data": {
      "text/html": [
       "<div>\n",
       "<style scoped>\n",
       "    .dataframe tbody tr th:only-of-type {\n",
       "        vertical-align: middle;\n",
       "    }\n",
       "\n",
       "    .dataframe tbody tr th {\n",
       "        vertical-align: top;\n",
       "    }\n",
       "\n",
       "    .dataframe thead th {\n",
       "        text-align: right;\n",
       "    }\n",
       "</style>\n",
       "<table border=\"1\" class=\"dataframe\">\n",
       "  <thead>\n",
       "    <tr style=\"text-align: right;\">\n",
       "      <th></th>\n",
       "      <th>0</th>\n",
       "      <th>1</th>\n",
       "      <th>2</th>\n",
       "      <th>3</th>\n",
       "    </tr>\n",
       "  </thead>\n",
       "  <tbody>\n",
       "    <tr>\n",
       "      <th>0</th>\n",
       "      <td>{'x000': 1.0, 'x001': 1.0, 'x002': 1.0, 'x003'...</td>\n",
       "      <td>[[0.21642569555226582]]</td>\n",
       "      <td>[[-627.4000800140145]]</td>\n",
       "      <td>37.277665</td>\n",
       "    </tr>\n",
       "    <tr>\n",
       "      <th>1</th>\n",
       "      <td>{'x000': 1.0, 'x001': 1.0, 'x002': 1.0, 'x003'...</td>\n",
       "      <td>[[0.22978871185918656]]</td>\n",
       "      <td>[[-597.4435991649781]]</td>\n",
       "      <td>46.117848</td>\n",
       "    </tr>\n",
       "    <tr>\n",
       "      <th>2</th>\n",
       "      <td>{'x000': 1.0, 'x001': 0.0, 'x002': 1.0, 'x003'...</td>\n",
       "      <td>[[295.57208289840116]]</td>\n",
       "      <td>[[2982.3102902443484]]</td>\n",
       "      <td>41.318959</td>\n",
       "    </tr>\n",
       "    <tr>\n",
       "      <th>3</th>\n",
       "      <td>{'x000': 1.0, 'x001': 1.0, 'x002': 1.0, 'x003'...</td>\n",
       "      <td>[[0.22521709589166009]]</td>\n",
       "      <td>[[-605.4913166525097]]</td>\n",
       "      <td>37.485838</td>\n",
       "    </tr>\n",
       "    <tr>\n",
       "      <th>4</th>\n",
       "      <td>{'x000': 1.0, 'x001': 1.0, 'x002': 1.0, 'x003'...</td>\n",
       "      <td>[[0.22618541082084279]]</td>\n",
       "      <td>[[-605.34618808091]]</td>\n",
       "      <td>40.114375</td>\n",
       "    </tr>\n",
       "    <tr>\n",
       "      <th>5</th>\n",
       "      <td>{'x000': 1.0, 'x001': 1.0, 'x002': 1.0, 'x003'...</td>\n",
       "      <td>[[0.22037877572426595]]</td>\n",
       "      <td>[[-616.3498336002864]]</td>\n",
       "      <td>45.739696</td>\n",
       "    </tr>\n",
       "    <tr>\n",
       "      <th>6</th>\n",
       "      <td>{'x000': 1.0, 'x001': 1.0, 'x002': 1.0, 'x003'...</td>\n",
       "      <td>[[0.21851451037745442]]</td>\n",
       "      <td>[[-622.5975097848924]]</td>\n",
       "      <td>42.824039</td>\n",
       "    </tr>\n",
       "    <tr>\n",
       "      <th>7</th>\n",
       "      <td>{'x000': 1.0, 'x001': 1.0, 'x002': 1.0, 'x003'...</td>\n",
       "      <td>[[0.22307097636870915]]</td>\n",
       "      <td>[[-612.2787202251924]]</td>\n",
       "      <td>43.739230</td>\n",
       "    </tr>\n",
       "    <tr>\n",
       "      <th>8</th>\n",
       "      <td>{'x000': 1.0, 'x001': 1.0, 'x002': 1.0, 'x003'...</td>\n",
       "      <td>[[0.2192254349161605]]</td>\n",
       "      <td>[[-618.9734287034107]]</td>\n",
       "      <td>45.838130</td>\n",
       "    </tr>\n",
       "    <tr>\n",
       "      <th>9</th>\n",
       "      <td>{'x000': 1.0, 'x001': 1.0, 'x002': 1.0, 'x003'...</td>\n",
       "      <td>[[0.21677562220518917]]</td>\n",
       "      <td>[[-626.5923107051796]]</td>\n",
       "      <td>39.352553</td>\n",
       "    </tr>\n",
       "  </tbody>\n",
       "</table>\n",
       "</div>"
      ],
      "text/plain": [
       "                                                   0                        1  \\\n",
       "0  {'x000': 1.0, 'x001': 1.0, 'x002': 1.0, 'x003'...  [[0.21642569555226582]]   \n",
       "1  {'x000': 1.0, 'x001': 1.0, 'x002': 1.0, 'x003'...  [[0.22978871185918656]]   \n",
       "2  {'x000': 1.0, 'x001': 0.0, 'x002': 1.0, 'x003'...   [[295.57208289840116]]   \n",
       "3  {'x000': 1.0, 'x001': 1.0, 'x002': 1.0, 'x003'...  [[0.22521709589166009]]   \n",
       "4  {'x000': 1.0, 'x001': 1.0, 'x002': 1.0, 'x003'...  [[0.22618541082084279]]   \n",
       "5  {'x000': 1.0, 'x001': 1.0, 'x002': 1.0, 'x003'...  [[0.22037877572426595]]   \n",
       "6  {'x000': 1.0, 'x001': 1.0, 'x002': 1.0, 'x003'...  [[0.21851451037745442]]   \n",
       "7  {'x000': 1.0, 'x001': 1.0, 'x002': 1.0, 'x003'...  [[0.22307097636870915]]   \n",
       "8  {'x000': 1.0, 'x001': 1.0, 'x002': 1.0, 'x003'...   [[0.2192254349161605]]   \n",
       "9  {'x000': 1.0, 'x001': 1.0, 'x002': 1.0, 'x003'...  [[0.21677562220518917]]   \n",
       "\n",
       "                        2          3  \n",
       "0  [[-627.4000800140145]]  37.277665  \n",
       "1  [[-597.4435991649781]]  46.117848  \n",
       "2  [[2982.3102902443484]]  41.318959  \n",
       "3  [[-605.4913166525097]]  37.485838  \n",
       "4    [[-605.34618808091]]  40.114375  \n",
       "5  [[-616.3498336002864]]  45.739696  \n",
       "6  [[-622.5975097848924]]  42.824039  \n",
       "7  [[-612.2787202251924]]  43.739230  \n",
       "8  [[-618.9734287034107]]  45.838130  \n",
       "9  [[-626.5923107051796]]  39.352553  "
      ]
     },
     "execution_count": 109,
     "metadata": {},
     "output_type": "execute_result"
    }
   ],
   "source": [
    "# Dwave Selected\n",
    "\n",
    "dwave_5=[]\n",
    "for i in range(10):\n",
    "    dwave_5.append(dwave(x5,y5))\n",
    "pd.DataFrame(dwave_5)"
   ]
  },
  {
   "cell_type": "code",
   "execution_count": 344,
   "id": "15fab8b3",
   "metadata": {},
   "outputs": [
    {
     "name": "stderr",
     "output_type": "stream",
     "text": [
      "C:\\Users\\user\\AppData\\Local\\Temp/ipykernel_18440/1133994057.py:13: DeprecationWarning: `np.float` is a deprecated alias for the builtin `float`. To silence this warning, use `float` by itself. Doing this will not modify any behavior and is safe. If you specifically wanted the numpy scalar type, use `np.float64` here.\n",
      "Deprecated in NumPy 1.20; for more details and guidance: https://numpy.org/devdocs/release/1.20.0-notes.html#deprecations\n",
      "  mse_r_5 = pd.DataFrame(random_5).iloc[:,[0]].astype(np.float)\n",
      "C:\\Users\\user\\AppData\\Local\\Temp/ipykernel_18440/1133994057.py:14: DeprecationWarning: `np.float` is a deprecated alias for the builtin `float`. To silence this warning, use `float` by itself. Doing this will not modify any behavior and is safe. If you specifically wanted the numpy scalar type, use `np.float64` here.\n",
      "Deprecated in NumPy 1.20; for more details and guidance: https://numpy.org/devdocs/release/1.20.0-notes.html#deprecations\n",
      "  aic_r_5 = pd.DataFrame(random_5).iloc[:,[1]].astype(np.float)\n",
      "C:\\Users\\user\\AppData\\Local\\Temp/ipykernel_18440/1133994057.py:15: DeprecationWarning: `np.float` is a deprecated alias for the builtin `float`. To silence this warning, use `float` by itself. Doing this will not modify any behavior and is safe. If you specifically wanted the numpy scalar type, use `np.float64` here.\n",
      "Deprecated in NumPy 1.20; for more details and guidance: https://numpy.org/devdocs/release/1.20.0-notes.html#deprecations\n",
      "  cn_r_5 = pd.DataFrame(random_5).iloc[:,[2]].astype(np.float)\n",
      "C:\\Users\\user\\AppData\\Local\\Temp/ipykernel_18440/1133994057.py:16: DeprecationWarning: `np.float` is a deprecated alias for the builtin `float`. To silence this warning, use `float` by itself. Doing this will not modify any behavior and is safe. If you specifically wanted the numpy scalar type, use `np.float64` here.\n",
      "Deprecated in NumPy 1.20; for more details and guidance: https://numpy.org/devdocs/release/1.20.0-notes.html#deprecations\n",
      "  mse_5 = pd.DataFrame(dwave_5).iloc[:,[1]].astype(np.float)\n",
      "C:\\Users\\user\\AppData\\Local\\Temp/ipykernel_18440/1133994057.py:17: DeprecationWarning: `np.float` is a deprecated alias for the builtin `float`. To silence this warning, use `float` by itself. Doing this will not modify any behavior and is safe. If you specifically wanted the numpy scalar type, use `np.float64` here.\n",
      "Deprecated in NumPy 1.20; for more details and guidance: https://numpy.org/devdocs/release/1.20.0-notes.html#deprecations\n",
      "  aic_5 = pd.DataFrame(dwave_5).iloc[:,[2]].astype(np.float)\n",
      "C:\\Users\\user\\AppData\\Local\\Temp/ipykernel_18440/1133994057.py:18: DeprecationWarning: `np.float` is a deprecated alias for the builtin `float`. To silence this warning, use `float` by itself. Doing this will not modify any behavior and is safe. If you specifically wanted the numpy scalar type, use `np.float64` here.\n",
      "Deprecated in NumPy 1.20; for more details and guidance: https://numpy.org/devdocs/release/1.20.0-notes.html#deprecations\n",
      "  cn_5 = pd.DataFrame(dwave_5).iloc[:,[3]].astype(np.float)\n"
     ]
    }
   ],
   "source": [
    "# 데이터 저장\n",
    "\n",
    "data_x_5=pd.DataFrame(x5)\n",
    "data_y_5=pd.DataFrame(y5)\n",
    "data_x_5.to_excel('data_x5.xlsx')\n",
    "data_y_5.to_excel('data_y5.xlsx')\n",
    "pd.DataFrame(full_5).to_excel('data_x5_full.xlsx')\n",
    "pd.DataFrame(true_5).to_excel('data_x5_true.xlsx')\n",
    "pd.DataFrame(random_5).to_excel('data_x5_random.xlsx')\n",
    "pd.DataFrame(dwave_5).to_excel('data_x5_dwave.xlsx')\n",
    "\n",
    "# 그래프 만들기\n",
    "mse_r_5 = pd.DataFrame(random_5).iloc[:,[0]].astype(np.float)\n",
    "aic_r_5 = pd.DataFrame(random_5).iloc[:,[1]].astype(np.float)\n",
    "cn_r_5 = pd.DataFrame(random_5).iloc[:,[2]].astype(np.float)\n",
    "mse_5 = pd.DataFrame(dwave_5).iloc[:,[1]].astype(np.float)\n",
    "aic_5 = pd.DataFrame(dwave_5).iloc[:,[2]].astype(np.float)\n",
    "cn_5 = pd.DataFrame(dwave_5).iloc[:,[3]].astype(np.float)"
   ]
  },
  {
   "cell_type": "code",
   "execution_count": null,
   "id": "ea261e28",
   "metadata": {},
   "outputs": [],
   "source": [
    "    "
   ]
  },
  {
   "cell_type": "code",
   "execution_count": 110,
   "id": "ab16423b",
   "metadata": {},
   "outputs": [],
   "source": [
    "#### Data 6\n",
    "x6,y6 = kqc_custom.generate_dependent_sample(500,200,beta_coef=[5,5,5,5,5,5,5,5,5,5],epsilon = 0.01)"
   ]
  },
  {
   "cell_type": "code",
   "execution_count": 111,
   "id": "573fd7ee",
   "metadata": {},
   "outputs": [
    {
     "data": {
      "text/plain": [
       "(array([[6.0311234e-05]]), array([[-4520.14216551]]), 3102.7326339199226)"
      ]
     },
     "execution_count": 111,
     "metadata": {},
     "output_type": "execute_result"
    }
   ],
   "source": [
    "# Real Variables\n",
    "full_6 = full(x6,y6)\n",
    "full_6"
   ]
  },
  {
   "cell_type": "code",
   "execution_count": 112,
   "id": "6bc41fe5",
   "metadata": {},
   "outputs": [
    {
     "data": {
      "text/plain": [
       "(array([[9.49744981e-05]]), array([[-4673.09715296]]), 2.5913350623302454)"
      ]
     },
     "execution_count": 112,
     "metadata": {},
     "output_type": "execute_result"
    }
   ],
   "source": [
    "# True Variables\n",
    "true_6 = full(pd.DataFrame(x6).iloc[:,[0,1,2,3,4,5,6,7,8,9]],y6)\n",
    "true_6"
   ]
  },
  {
   "cell_type": "code",
   "execution_count": 113,
   "id": "a250cc5d",
   "metadata": {},
   "outputs": [
    {
     "data": {
      "text/plain": [
       "[(array([[1733.13352359]]), array([[3888.69708622]]), 65.66739684320473),\n",
       " (array([[1367.49403574]]), array([[3744.22150544]]), 41.32518546168134),\n",
       " (array([[2254.06209042]]), array([[3996.09853951]]), 48.22129363376776),\n",
       " (array([[2256.37902784]]), array([[3984.61222267]]), 42.41161051821162),\n",
       " (array([[1793.21905526]]), array([[3905.73773833]]), 62.34935430785524),\n",
       " (array([[528.50576023]]), array([[3280.88077125]]), 60.94260400946471),\n",
       " (array([[1973.73296831]]), array([[3929.69488723]]), 48.87516204261186),\n",
       " (array([[1935.62093438]]), array([[3917.94564417]]), 53.90227560613922),\n",
       " (array([[2723.56839442]]), array([[4074.70302362]]), 50.271976441864744),\n",
       " (array([[1464.79656958]]), array([[3788.58974474]]), 56.177527546589644)]"
      ]
     },
     "execution_count": 113,
     "metadata": {},
     "output_type": "execute_result"
    }
   ],
   "source": [
    "# Random Variables\n",
    "\n",
    "random_6=[]\n",
    "for i in range(10):\n",
    "    random_6.append(random(x6,y6))\n",
    "random_6"
   ]
  },
  {
   "cell_type": "code",
   "execution_count": 114,
   "id": "2a37581c",
   "metadata": {
    "scrolled": true
   },
   "outputs": [
    {
     "data": {
      "text/html": [
       "<div>\n",
       "<style scoped>\n",
       "    .dataframe tbody tr th:only-of-type {\n",
       "        vertical-align: middle;\n",
       "    }\n",
       "\n",
       "    .dataframe tbody tr th {\n",
       "        vertical-align: top;\n",
       "    }\n",
       "\n",
       "    .dataframe thead th {\n",
       "        text-align: right;\n",
       "    }\n",
       "</style>\n",
       "<table border=\"1\" class=\"dataframe\">\n",
       "  <thead>\n",
       "    <tr style=\"text-align: right;\">\n",
       "      <th></th>\n",
       "      <th>0</th>\n",
       "      <th>1</th>\n",
       "      <th>2</th>\n",
       "      <th>3</th>\n",
       "    </tr>\n",
       "  </thead>\n",
       "  <tbody>\n",
       "    <tr>\n",
       "      <th>0</th>\n",
       "      <td>{'x000': 1.0, 'x001': 1.0, 'x002': 1.0, 'x003'...</td>\n",
       "      <td>[[7.91062130848963e-05]]</td>\n",
       "      <td>[[-4586.505650513191]]</td>\n",
       "      <td>42.465797</td>\n",
       "    </tr>\n",
       "    <tr>\n",
       "      <th>1</th>\n",
       "      <td>{'x000': 1.0, 'x001': 1.0, 'x002': 1.0, 'x003'...</td>\n",
       "      <td>[[7.85661474041488e-05]]</td>\n",
       "      <td>[[-4587.930903938412]]</td>\n",
       "      <td>43.304270</td>\n",
       "    </tr>\n",
       "    <tr>\n",
       "      <th>2</th>\n",
       "      <td>{'x000': 1.0, 'x001': 1.0, 'x002': 1.0, 'x003'...</td>\n",
       "      <td>[[7.837260518048784e-05]]</td>\n",
       "      <td>[[-4589.164138678658]]</td>\n",
       "      <td>45.224091</td>\n",
       "    </tr>\n",
       "    <tr>\n",
       "      <th>3</th>\n",
       "      <td>{'x000': 1.0, 'x001': 1.0, 'x002': 1.0, 'x003'...</td>\n",
       "      <td>[[7.44164251120214e-05]]</td>\n",
       "      <td>[[-4615.0630174122825]]</td>\n",
       "      <td>41.793397</td>\n",
       "    </tr>\n",
       "    <tr>\n",
       "      <th>4</th>\n",
       "      <td>{'x000': 1.0, 'x001': 1.0, 'x002': 1.0, 'x003'...</td>\n",
       "      <td>[[7.944677693765944e-05]]</td>\n",
       "      <td>[[-4582.357697475737]]</td>\n",
       "      <td>41.276093</td>\n",
       "    </tr>\n",
       "    <tr>\n",
       "      <th>5</th>\n",
       "      <td>{'x000': 1.0, 'x001': 1.0, 'x002': 1.0, 'x003'...</td>\n",
       "      <td>[[341.2166911921774]]</td>\n",
       "      <td>[[3052.1127857693405]]</td>\n",
       "      <td>34.566445</td>\n",
       "    </tr>\n",
       "    <tr>\n",
       "      <th>6</th>\n",
       "      <td>{'x000': 1.0, 'x001': 1.0, 'x002': 1.0, 'x003'...</td>\n",
       "      <td>[[7.794129002442141e-05]]</td>\n",
       "      <td>[[-4591.923434326283]]</td>\n",
       "      <td>38.061096</td>\n",
       "    </tr>\n",
       "    <tr>\n",
       "      <th>7</th>\n",
       "      <td>{'x000': 1.0, 'x001': 1.0, 'x002': 1.0, 'x003'...</td>\n",
       "      <td>[[7.906980026920074e-05]]</td>\n",
       "      <td>[[-4586.735854926405]]</td>\n",
       "      <td>34.345195</td>\n",
       "    </tr>\n",
       "    <tr>\n",
       "      <th>8</th>\n",
       "      <td>{'x000': 1.0, 'x001': 1.0, 'x002': 1.0, 'x003'...</td>\n",
       "      <td>[[7.637065217139183e-05]]</td>\n",
       "      <td>[[-4604.102115720434]]</td>\n",
       "      <td>38.200593</td>\n",
       "    </tr>\n",
       "    <tr>\n",
       "      <th>9</th>\n",
       "      <td>{'x000': 1.0, 'x001': 1.0, 'x002': 1.0, 'x003'...</td>\n",
       "      <td>[[7.861483119689083e-05]]</td>\n",
       "      <td>[[-4587.621173112632]]</td>\n",
       "      <td>42.247475</td>\n",
       "    </tr>\n",
       "  </tbody>\n",
       "</table>\n",
       "</div>"
      ],
      "text/plain": [
       "                                                   0  \\\n",
       "0  {'x000': 1.0, 'x001': 1.0, 'x002': 1.0, 'x003'...   \n",
       "1  {'x000': 1.0, 'x001': 1.0, 'x002': 1.0, 'x003'...   \n",
       "2  {'x000': 1.0, 'x001': 1.0, 'x002': 1.0, 'x003'...   \n",
       "3  {'x000': 1.0, 'x001': 1.0, 'x002': 1.0, 'x003'...   \n",
       "4  {'x000': 1.0, 'x001': 1.0, 'x002': 1.0, 'x003'...   \n",
       "5  {'x000': 1.0, 'x001': 1.0, 'x002': 1.0, 'x003'...   \n",
       "6  {'x000': 1.0, 'x001': 1.0, 'x002': 1.0, 'x003'...   \n",
       "7  {'x000': 1.0, 'x001': 1.0, 'x002': 1.0, 'x003'...   \n",
       "8  {'x000': 1.0, 'x001': 1.0, 'x002': 1.0, 'x003'...   \n",
       "9  {'x000': 1.0, 'x001': 1.0, 'x002': 1.0, 'x003'...   \n",
       "\n",
       "                           1                        2          3  \n",
       "0   [[7.91062130848963e-05]]   [[-4586.505650513191]]  42.465797  \n",
       "1   [[7.85661474041488e-05]]   [[-4587.930903938412]]  43.304270  \n",
       "2  [[7.837260518048784e-05]]   [[-4589.164138678658]]  45.224091  \n",
       "3   [[7.44164251120214e-05]]  [[-4615.0630174122825]]  41.793397  \n",
       "4  [[7.944677693765944e-05]]   [[-4582.357697475737]]  41.276093  \n",
       "5      [[341.2166911921774]]   [[3052.1127857693405]]  34.566445  \n",
       "6  [[7.794129002442141e-05]]   [[-4591.923434326283]]  38.061096  \n",
       "7  [[7.906980026920074e-05]]   [[-4586.735854926405]]  34.345195  \n",
       "8  [[7.637065217139183e-05]]   [[-4604.102115720434]]  38.200593  \n",
       "9  [[7.861483119689083e-05]]   [[-4587.621173112632]]  42.247475  "
      ]
     },
     "execution_count": 114,
     "metadata": {},
     "output_type": "execute_result"
    }
   ],
   "source": [
    "# Dwave Selected\n",
    "\n",
    "dwave_6=[]\n",
    "for i in range(10):\n",
    "    dwave_6.append(dwave(x6,y6))\n",
    "pd.DataFrame(dwave_6)"
   ]
  },
  {
   "cell_type": "code",
   "execution_count": 345,
   "id": "c1ce0e61",
   "metadata": {},
   "outputs": [
    {
     "name": "stderr",
     "output_type": "stream",
     "text": [
      "C:\\Users\\user\\AppData\\Local\\Temp/ipykernel_18440/734480221.py:13: DeprecationWarning: `np.float` is a deprecated alias for the builtin `float`. To silence this warning, use `float` by itself. Doing this will not modify any behavior and is safe. If you specifically wanted the numpy scalar type, use `np.float64` here.\n",
      "Deprecated in NumPy 1.20; for more details and guidance: https://numpy.org/devdocs/release/1.20.0-notes.html#deprecations\n",
      "  mse_r_6 = pd.DataFrame(random_6).iloc[:,[0]].astype(np.float)\n",
      "C:\\Users\\user\\AppData\\Local\\Temp/ipykernel_18440/734480221.py:14: DeprecationWarning: `np.float` is a deprecated alias for the builtin `float`. To silence this warning, use `float` by itself. Doing this will not modify any behavior and is safe. If you specifically wanted the numpy scalar type, use `np.float64` here.\n",
      "Deprecated in NumPy 1.20; for more details and guidance: https://numpy.org/devdocs/release/1.20.0-notes.html#deprecations\n",
      "  aic_r_6 = pd.DataFrame(random_6).iloc[:,[1]].astype(np.float)\n",
      "C:\\Users\\user\\AppData\\Local\\Temp/ipykernel_18440/734480221.py:15: DeprecationWarning: `np.float` is a deprecated alias for the builtin `float`. To silence this warning, use `float` by itself. Doing this will not modify any behavior and is safe. If you specifically wanted the numpy scalar type, use `np.float64` here.\n",
      "Deprecated in NumPy 1.20; for more details and guidance: https://numpy.org/devdocs/release/1.20.0-notes.html#deprecations\n",
      "  cn_r_6 = pd.DataFrame(random_6).iloc[:,[2]].astype(np.float)\n",
      "C:\\Users\\user\\AppData\\Local\\Temp/ipykernel_18440/734480221.py:16: DeprecationWarning: `np.float` is a deprecated alias for the builtin `float`. To silence this warning, use `float` by itself. Doing this will not modify any behavior and is safe. If you specifically wanted the numpy scalar type, use `np.float64` here.\n",
      "Deprecated in NumPy 1.20; for more details and guidance: https://numpy.org/devdocs/release/1.20.0-notes.html#deprecations\n",
      "  mse_6 = pd.DataFrame(dwave_6).iloc[:,[1]].astype(np.float)\n",
      "C:\\Users\\user\\AppData\\Local\\Temp/ipykernel_18440/734480221.py:17: DeprecationWarning: `np.float` is a deprecated alias for the builtin `float`. To silence this warning, use `float` by itself. Doing this will not modify any behavior and is safe. If you specifically wanted the numpy scalar type, use `np.float64` here.\n",
      "Deprecated in NumPy 1.20; for more details and guidance: https://numpy.org/devdocs/release/1.20.0-notes.html#deprecations\n",
      "  aic_6 = pd.DataFrame(dwave_6).iloc[:,[2]].astype(np.float)\n",
      "C:\\Users\\user\\AppData\\Local\\Temp/ipykernel_18440/734480221.py:18: DeprecationWarning: `np.float` is a deprecated alias for the builtin `float`. To silence this warning, use `float` by itself. Doing this will not modify any behavior and is safe. If you specifically wanted the numpy scalar type, use `np.float64` here.\n",
      "Deprecated in NumPy 1.20; for more details and guidance: https://numpy.org/devdocs/release/1.20.0-notes.html#deprecations\n",
      "  cn_6 = pd.DataFrame(dwave_6).iloc[:,[3]].astype(np.float)\n"
     ]
    }
   ],
   "source": [
    "# 데이터 저장\n",
    "\n",
    "data_x_6=pd.DataFrame(x6)\n",
    "data_y_6=pd.DataFrame(y6)\n",
    "data_x_6.to_excel('data_x6.xlsx')\n",
    "data_y_6.to_excel('data_y6.xlsx')\n",
    "pd.DataFrame(full_6).to_excel('data_x6_full.xlsx')\n",
    "pd.DataFrame(true_6).to_excel('data_x6_true.xlsx')\n",
    "pd.DataFrame(random_6).to_excel('data_x6_random.xlsx')\n",
    "pd.DataFrame(dwave_6).to_excel('data_x6_dwave.xlsx')\n",
    "\n",
    "# 그래프 만들기\n",
    "mse_r_6 = pd.DataFrame(random_6).iloc[:,[0]].astype(np.float)\n",
    "aic_r_6 = pd.DataFrame(random_6).iloc[:,[1]].astype(np.float)\n",
    "cn_r_6 = pd.DataFrame(random_6).iloc[:,[2]].astype(np.float)\n",
    "mse_6 = pd.DataFrame(dwave_6).iloc[:,[1]].astype(np.float)\n",
    "aic_6 = pd.DataFrame(dwave_6).iloc[:,[2]].astype(np.float)\n",
    "cn_6 = pd.DataFrame(dwave_6).iloc[:,[3]].astype(np.float)"
   ]
  },
  {
   "cell_type": "code",
   "execution_count": null,
   "id": "bc849c5f",
   "metadata": {},
   "outputs": [],
   "source": []
  },
  {
   "cell_type": "code",
   "execution_count": null,
   "id": "47690bca",
   "metadata": {},
   "outputs": [],
   "source": [
    "    "
   ]
  },
  {
   "cell_type": "code",
   "execution_count": 115,
   "id": "ce697805",
   "metadata": {},
   "outputs": [],
   "source": [
    "#### Data 6\n",
    "x7,y7 = kqc_custom.generate_dependent_sample(2000,200,beta_coef=[15,15,15,15,15,15,15,15,15,15,15,15,15,15,15,15,15,15,15,15],epsilon = 0.5)"
   ]
  },
  {
   "cell_type": "code",
   "execution_count": 116,
   "id": "8b55719a",
   "metadata": {},
   "outputs": [
    {
     "data": {
      "text/plain": [
       "(array([[0.21587329]]), array([[-2742.13633993]]), 1567.083975922726)"
      ]
     },
     "execution_count": 116,
     "metadata": {},
     "output_type": "execute_result"
    }
   ],
   "source": [
    "# Real Variables\n",
    "full_7 = full(x7,y7)\n",
    "full_7"
   ]
  },
  {
   "cell_type": "code",
   "execution_count": 117,
   "id": "e5e94af7",
   "metadata": {},
   "outputs": [
    {
     "data": {
      "text/plain": [
       "(array([[0.24120782]]), array([[-2880.20185173]]), 2.7641246962783432)"
      ]
     },
     "execution_count": 117,
     "metadata": {},
     "output_type": "execute_result"
    }
   ],
   "source": [
    "# True Variables\n",
    "true_7 = full(pd.DataFrame(x7).iloc[:,[0,1,2,3,4,5,6,7,8,9,10,11,12,13,14,15,16,17,18,19]],y7)\n",
    "true_7"
   ]
  },
  {
   "cell_type": "code",
   "execution_count": 118,
   "id": "5828d644",
   "metadata": {},
   "outputs": [
    {
     "data": {
      "text/plain": [
       "[(array([[32344.87031493]]), array([[20892.41241348]]), 38.33762883563206),\n",
       " (array([[45608.9662254]]), array([[21567.71018325]]), 26.521613444837307),\n",
       " (array([[34040.61777895]]), array([[20994.61043769]]), 33.67910935637043),\n",
       " (array([[32338.29138141]]), array([[20882.00557291]]), 27.791041481469012),\n",
       " (array([[35231.02341262]]), array([[21077.35561616]]), 38.370834378819595),\n",
       " (array([[38563.91014134]]), array([[21256.13527073]]), 39.73959780084341),\n",
       " (array([[23359.82977724]]), array([[20261.53727537]]), 42.67769205367565),\n",
       " (array([[33173.63607733]]), array([[20935.01246618]]), 31.797706835545714),\n",
       " (array([[48209.98032225]]), array([[21672.63365387]]), 26.2655625069337),\n",
       " (array([[38833.2023062]]), array([[21256.05275385]]), 36.81306352375036)]"
      ]
     },
     "execution_count": 118,
     "metadata": {},
     "output_type": "execute_result"
    }
   ],
   "source": [
    "# Random Variables\n",
    "\n",
    "random_7=[]\n",
    "for i in range(10):\n",
    "    random_7.append(random(x7,y7))\n",
    "random_7"
   ]
  },
  {
   "cell_type": "code",
   "execution_count": 119,
   "id": "43a38278",
   "metadata": {
    "scrolled": true
   },
   "outputs": [
    {
     "data": {
      "text/html": [
       "<div>\n",
       "<style scoped>\n",
       "    .dataframe tbody tr th:only-of-type {\n",
       "        vertical-align: middle;\n",
       "    }\n",
       "\n",
       "    .dataframe tbody tr th {\n",
       "        vertical-align: top;\n",
       "    }\n",
       "\n",
       "    .dataframe thead th {\n",
       "        text-align: right;\n",
       "    }\n",
       "</style>\n",
       "<table border=\"1\" class=\"dataframe\">\n",
       "  <thead>\n",
       "    <tr style=\"text-align: right;\">\n",
       "      <th></th>\n",
       "      <th>0</th>\n",
       "      <th>1</th>\n",
       "      <th>2</th>\n",
       "      <th>3</th>\n",
       "    </tr>\n",
       "  </thead>\n",
       "  <tbody>\n",
       "    <tr>\n",
       "      <th>0</th>\n",
       "      <td>{'x000': 1.0, 'x001': 1.0, 'x002': 1.0, 'x003'...</td>\n",
       "      <td>[[0.2309390094999203]]</td>\n",
       "      <td>[[-2807.2122875169853]]</td>\n",
       "      <td>25.910693</td>\n",
       "    </tr>\n",
       "    <tr>\n",
       "      <th>1</th>\n",
       "      <td>{'x000': 1.0, 'x001': 1.0, 'x002': 1.0, 'x003'...</td>\n",
       "      <td>[[0.23135397756578413]]</td>\n",
       "      <td>[[-2803.6217664498163]]</td>\n",
       "      <td>26.761127</td>\n",
       "    </tr>\n",
       "    <tr>\n",
       "      <th>2</th>\n",
       "      <td>{'x000': 1.0, 'x001': 1.0, 'x002': 1.0, 'x003'...</td>\n",
       "      <td>[[0.23208526387109146]]</td>\n",
       "      <td>[[-2793.3099408910266]]</td>\n",
       "      <td>26.564230</td>\n",
       "    </tr>\n",
       "    <tr>\n",
       "      <th>3</th>\n",
       "      <td>{'x000': 1.0, 'x001': 1.0, 'x002': 1.0, 'x003'...</td>\n",
       "      <td>[[0.22889007631360686]]</td>\n",
       "      <td>[[-2825.0358381360047]]</td>\n",
       "      <td>22.955378</td>\n",
       "    </tr>\n",
       "    <tr>\n",
       "      <th>4</th>\n",
       "      <td>{'x000': 1.0, 'x001': 1.0, 'x002': 1.0, 'x003'...</td>\n",
       "      <td>[[2651.011652009653]]</td>\n",
       "      <td>[[15889.384178615634]]</td>\n",
       "      <td>28.583679</td>\n",
       "    </tr>\n",
       "    <tr>\n",
       "      <th>5</th>\n",
       "      <td>{'x000': 1.0, 'x001': 1.0, 'x002': 1.0, 'x003'...</td>\n",
       "      <td>[[0.2331048627950711]]</td>\n",
       "      <td>[[-2786.5427680880316]]</td>\n",
       "      <td>28.047937</td>\n",
       "    </tr>\n",
       "    <tr>\n",
       "      <th>6</th>\n",
       "      <td>{'x000': 1.0, 'x001': 1.0, 'x002': 1.0, 'x003'...</td>\n",
       "      <td>[[3089.55931975204]]</td>\n",
       "      <td>[[16195.558464913245]]</td>\n",
       "      <td>27.434757</td>\n",
       "    </tr>\n",
       "    <tr>\n",
       "      <th>7</th>\n",
       "      <td>{'x000': 1.0, 'x001': 1.0, 'x002': 1.0, 'x003'...</td>\n",
       "      <td>[[0.232518977749231]]</td>\n",
       "      <td>[[-2791.575889711356]]</td>\n",
       "      <td>22.874116</td>\n",
       "    </tr>\n",
       "    <tr>\n",
       "      <th>8</th>\n",
       "      <td>{'x000': 1.0, 'x001': 1.0, 'x002': 1.0, 'x003'...</td>\n",
       "      <td>[[0.23038470384346557]]</td>\n",
       "      <td>[[-2812.018508460576]]</td>\n",
       "      <td>30.541865</td>\n",
       "    </tr>\n",
       "    <tr>\n",
       "      <th>9</th>\n",
       "      <td>{'x000': 1.0, 'x001': 1.0, 'x002': 1.0, 'x003'...</td>\n",
       "      <td>[[0.2306001583183754]]</td>\n",
       "      <td>[[-2810.148993790722]]</td>\n",
       "      <td>29.534613</td>\n",
       "    </tr>\n",
       "  </tbody>\n",
       "</table>\n",
       "</div>"
      ],
      "text/plain": [
       "                                                   0                        1  \\\n",
       "0  {'x000': 1.0, 'x001': 1.0, 'x002': 1.0, 'x003'...   [[0.2309390094999203]]   \n",
       "1  {'x000': 1.0, 'x001': 1.0, 'x002': 1.0, 'x003'...  [[0.23135397756578413]]   \n",
       "2  {'x000': 1.0, 'x001': 1.0, 'x002': 1.0, 'x003'...  [[0.23208526387109146]]   \n",
       "3  {'x000': 1.0, 'x001': 1.0, 'x002': 1.0, 'x003'...  [[0.22889007631360686]]   \n",
       "4  {'x000': 1.0, 'x001': 1.0, 'x002': 1.0, 'x003'...    [[2651.011652009653]]   \n",
       "5  {'x000': 1.0, 'x001': 1.0, 'x002': 1.0, 'x003'...   [[0.2331048627950711]]   \n",
       "6  {'x000': 1.0, 'x001': 1.0, 'x002': 1.0, 'x003'...     [[3089.55931975204]]   \n",
       "7  {'x000': 1.0, 'x001': 1.0, 'x002': 1.0, 'x003'...    [[0.232518977749231]]   \n",
       "8  {'x000': 1.0, 'x001': 1.0, 'x002': 1.0, 'x003'...  [[0.23038470384346557]]   \n",
       "9  {'x000': 1.0, 'x001': 1.0, 'x002': 1.0, 'x003'...   [[0.2306001583183754]]   \n",
       "\n",
       "                         2          3  \n",
       "0  [[-2807.2122875169853]]  25.910693  \n",
       "1  [[-2803.6217664498163]]  26.761127  \n",
       "2  [[-2793.3099408910266]]  26.564230  \n",
       "3  [[-2825.0358381360047]]  22.955378  \n",
       "4   [[15889.384178615634]]  28.583679  \n",
       "5  [[-2786.5427680880316]]  28.047937  \n",
       "6   [[16195.558464913245]]  27.434757  \n",
       "7   [[-2791.575889711356]]  22.874116  \n",
       "8   [[-2812.018508460576]]  30.541865  \n",
       "9   [[-2810.148993790722]]  29.534613  "
      ]
     },
     "execution_count": 119,
     "metadata": {},
     "output_type": "execute_result"
    }
   ],
   "source": [
    "# Dwave Selected\n",
    "\n",
    "dwave_7=[]\n",
    "for i in range(10):\n",
    "    dwave_7.append(dwave(x7,y7))\n",
    "pd.DataFrame(dwave_7)"
   ]
  },
  {
   "cell_type": "code",
   "execution_count": 346,
   "id": "8ccb08ab",
   "metadata": {},
   "outputs": [
    {
     "name": "stderr",
     "output_type": "stream",
     "text": [
      "C:\\Users\\user\\AppData\\Local\\Temp/ipykernel_18440/3680811283.py:13: DeprecationWarning: `np.float` is a deprecated alias for the builtin `float`. To silence this warning, use `float` by itself. Doing this will not modify any behavior and is safe. If you specifically wanted the numpy scalar type, use `np.float64` here.\n",
      "Deprecated in NumPy 1.20; for more details and guidance: https://numpy.org/devdocs/release/1.20.0-notes.html#deprecations\n",
      "  mse_r_7 = pd.DataFrame(random_7).iloc[:,[0]].astype(np.float)\n",
      "C:\\Users\\user\\AppData\\Local\\Temp/ipykernel_18440/3680811283.py:14: DeprecationWarning: `np.float` is a deprecated alias for the builtin `float`. To silence this warning, use `float` by itself. Doing this will not modify any behavior and is safe. If you specifically wanted the numpy scalar type, use `np.float64` here.\n",
      "Deprecated in NumPy 1.20; for more details and guidance: https://numpy.org/devdocs/release/1.20.0-notes.html#deprecations\n",
      "  aic_r_7 = pd.DataFrame(random_7).iloc[:,[1]].astype(np.float)\n",
      "C:\\Users\\user\\AppData\\Local\\Temp/ipykernel_18440/3680811283.py:15: DeprecationWarning: `np.float` is a deprecated alias for the builtin `float`. To silence this warning, use `float` by itself. Doing this will not modify any behavior and is safe. If you specifically wanted the numpy scalar type, use `np.float64` here.\n",
      "Deprecated in NumPy 1.20; for more details and guidance: https://numpy.org/devdocs/release/1.20.0-notes.html#deprecations\n",
      "  cn_r_7 = pd.DataFrame(random_7).iloc[:,[2]].astype(np.float)\n",
      "C:\\Users\\user\\AppData\\Local\\Temp/ipykernel_18440/3680811283.py:16: DeprecationWarning: `np.float` is a deprecated alias for the builtin `float`. To silence this warning, use `float` by itself. Doing this will not modify any behavior and is safe. If you specifically wanted the numpy scalar type, use `np.float64` here.\n",
      "Deprecated in NumPy 1.20; for more details and guidance: https://numpy.org/devdocs/release/1.20.0-notes.html#deprecations\n",
      "  mse_7 = pd.DataFrame(dwave_7).iloc[:,[1]].astype(np.float)\n",
      "C:\\Users\\user\\AppData\\Local\\Temp/ipykernel_18440/3680811283.py:17: DeprecationWarning: `np.float` is a deprecated alias for the builtin `float`. To silence this warning, use `float` by itself. Doing this will not modify any behavior and is safe. If you specifically wanted the numpy scalar type, use `np.float64` here.\n",
      "Deprecated in NumPy 1.20; for more details and guidance: https://numpy.org/devdocs/release/1.20.0-notes.html#deprecations\n",
      "  aic_7 = pd.DataFrame(dwave_7).iloc[:,[2]].astype(np.float)\n",
      "C:\\Users\\user\\AppData\\Local\\Temp/ipykernel_18440/3680811283.py:18: DeprecationWarning: `np.float` is a deprecated alias for the builtin `float`. To silence this warning, use `float` by itself. Doing this will not modify any behavior and is safe. If you specifically wanted the numpy scalar type, use `np.float64` here.\n",
      "Deprecated in NumPy 1.20; for more details and guidance: https://numpy.org/devdocs/release/1.20.0-notes.html#deprecations\n",
      "  cn_7 = pd.DataFrame(dwave_7).iloc[:,[3]].astype(np.float)\n"
     ]
    }
   ],
   "source": [
    "# 데이터 저장\n",
    "\n",
    "data_x_7=pd.DataFrame(x7)\n",
    "data_y_7=pd.DataFrame(y7)\n",
    "data_x_7.to_excel('data_x7.xlsx')\n",
    "data_y_7.to_excel('data_y7.xlsx')\n",
    "pd.DataFrame(full_7).to_excel('data_x7_full.xlsx')\n",
    "pd.DataFrame(true_7).to_excel('data_x7_true.xlsx')\n",
    "pd.DataFrame(random_7).to_excel('data_x7_random.xlsx')\n",
    "pd.DataFrame(dwave_7).to_excel('data_x7_dwave.xlsx')\n",
    "\n",
    "# 그래프 만들기\n",
    "mse_r_7 = pd.DataFrame(random_7).iloc[:,[0]].astype(np.float)\n",
    "aic_r_7 = pd.DataFrame(random_7).iloc[:,[1]].astype(np.float)\n",
    "cn_r_7 = pd.DataFrame(random_7).iloc[:,[2]].astype(np.float)\n",
    "mse_7 = pd.DataFrame(dwave_7).iloc[:,[1]].astype(np.float)\n",
    "aic_7 = pd.DataFrame(dwave_7).iloc[:,[2]].astype(np.float)\n",
    "cn_7 = pd.DataFrame(dwave_7).iloc[:,[3]].astype(np.float)"
   ]
  },
  {
   "cell_type": "code",
   "execution_count": null,
   "id": "fd5c3b23",
   "metadata": {},
   "outputs": [],
   "source": []
  },
  {
   "cell_type": "code",
   "execution_count": 120,
   "id": "35927132",
   "metadata": {},
   "outputs": [],
   "source": [
    "#### Data 6\n",
    "x8,y8 = kqc_custom.generate_dependent_sample(2000,200,beta_coef=[15,15,15,15,15,15,15,15,15,15,15,15,15,15,15],epsilon = 0.5)\n",
    "full_8 = full(x8,y8)\n",
    "true_8 = full(pd.DataFrame(x8).iloc[:,[0,1,2,3,4,5,6,7,8,9,10,11,12,13,14]],y8)\n",
    "random_8=[]\n",
    "for i in range(10):\n",
    "    random_8.append(random(x8,y8))\n",
    "dwave_8=[]\n",
    "for i in range(10):\n",
    "    dwave_8.append(dwave(x8,y8))"
   ]
  },
  {
   "cell_type": "code",
   "execution_count": 123,
   "id": "adf940c8",
   "metadata": {},
   "outputs": [
    {
     "data": {
      "text/plain": [
       "(array([[0.22652843]]), array([[-2645.77869109]]), 1623.031981041242)"
      ]
     },
     "execution_count": 123,
     "metadata": {},
     "output_type": "execute_result"
    }
   ],
   "source": [
    "full_8"
   ]
  },
  {
   "cell_type": "code",
   "execution_count": 124,
   "id": "c72fcb0f",
   "metadata": {},
   "outputs": [
    {
     "data": {
      "text/plain": [
       "(array([[0.25036116]]), array([[-2815.71055143]]), 2.6390693384497443)"
      ]
     },
     "execution_count": 124,
     "metadata": {},
     "output_type": "execute_result"
    }
   ],
   "source": [
    "true_8"
   ]
  },
  {
   "cell_type": "code",
   "execution_count": 125,
   "id": "f0ac8ddd",
   "metadata": {},
   "outputs": [
    {
     "data": {
      "text/plain": [
       "[(array([[36403.44018428]]), array([[21124.82809484]]), 27.98994248461404),\n",
       " (array([[24415.40381301]]), array([[20323.93000721]]), 31.630166704164893),\n",
       " (array([[25817.39396839]]), array([[20415.59843255]]), 25.5110047631362),\n",
       " (array([[28680.80413154]]), array([[20645.95764016]]), 28.87261870243803),\n",
       " (array([[35795.7166108]]), array([[21101.15801038]]), 33.815712630468234),\n",
       " (array([[30839.56669008]]), array([[20793.09853005]]), 36.44627669201378),\n",
       " (array([[27033.23915625]]), array([[20529.63591078]]), 36.01632360012535),\n",
       " (array([[34082.21100128]]), array([[21005.05268668]]), 35.47653629084038),\n",
       " (array([[41444.02521042]]), array([[21376.18898675]]), 31.97665774380928),\n",
       " (array([[16708.69204687]]), array([[19601.3596651]]), 45.692464346051004)]"
      ]
     },
     "execution_count": 125,
     "metadata": {},
     "output_type": "execute_result"
    }
   ],
   "source": [
    "random_8"
   ]
  },
  {
   "cell_type": "code",
   "execution_count": 126,
   "id": "a2e6bd2a",
   "metadata": {
    "scrolled": true
   },
   "outputs": [
    {
     "data": {
      "text/html": [
       "<div>\n",
       "<style scoped>\n",
       "    .dataframe tbody tr th:only-of-type {\n",
       "        vertical-align: middle;\n",
       "    }\n",
       "\n",
       "    .dataframe tbody tr th {\n",
       "        vertical-align: top;\n",
       "    }\n",
       "\n",
       "    .dataframe thead th {\n",
       "        text-align: right;\n",
       "    }\n",
       "</style>\n",
       "<table border=\"1\" class=\"dataframe\">\n",
       "  <thead>\n",
       "    <tr style=\"text-align: right;\">\n",
       "      <th></th>\n",
       "      <th>0</th>\n",
       "      <th>1</th>\n",
       "      <th>2</th>\n",
       "      <th>3</th>\n",
       "    </tr>\n",
       "  </thead>\n",
       "  <tbody>\n",
       "    <tr>\n",
       "      <th>0</th>\n",
       "      <td>{'x000': 1.0, 'x001': 1.0, 'x002': 1.0, 'x003'...</td>\n",
       "      <td>[[0.2377956402308241]]</td>\n",
       "      <td>[[-2748.696281911276]]</td>\n",
       "      <td>24.076477</td>\n",
       "    </tr>\n",
       "    <tr>\n",
       "      <th>1</th>\n",
       "      <td>{'x000': 1.0, 'x001': 1.0, 'x002': 1.0, 'x003'...</td>\n",
       "      <td>[[0.23765902188453675]]</td>\n",
       "      <td>[[-2747.8456520694276]]</td>\n",
       "      <td>27.109627</td>\n",
       "    </tr>\n",
       "    <tr>\n",
       "      <th>2</th>\n",
       "      <td>{'x000': 1.0, 'x001': 1.0, 'x002': 1.0, 'x003'...</td>\n",
       "      <td>[[0.23679989892038203]]</td>\n",
       "      <td>[[-2755.0886302531653]]</td>\n",
       "      <td>25.525328</td>\n",
       "    </tr>\n",
       "    <tr>\n",
       "      <th>3</th>\n",
       "      <td>{'x000': 1.0, 'x001': 1.0, 'x002': 1.0, 'x003'...</td>\n",
       "      <td>[[3629.4884093920978]]</td>\n",
       "      <td>[[16519.68494195457]]</td>\n",
       "      <td>24.574142</td>\n",
       "    </tr>\n",
       "    <tr>\n",
       "      <th>4</th>\n",
       "      <td>{'x000': 1.0, 'x001': 1.0, 'x002': 1.0, 'x003'...</td>\n",
       "      <td>[[0.23755324780229875]]</td>\n",
       "      <td>[[-2750.735983323328]]</td>\n",
       "      <td>22.743500</td>\n",
       "    </tr>\n",
       "    <tr>\n",
       "      <th>5</th>\n",
       "      <td>{'x000': 1.0, 'x001': 1.0, 'x002': 1.0, 'x003'...</td>\n",
       "      <td>[[3965.607665524795]]</td>\n",
       "      <td>[[16696.819734823657]]</td>\n",
       "      <td>27.236756</td>\n",
       "    </tr>\n",
       "    <tr>\n",
       "      <th>6</th>\n",
       "      <td>{'x000': 1.0, 'x001': 1.0, 'x002': 1.0, 'x003'...</td>\n",
       "      <td>[[0.2392645377805029]]</td>\n",
       "      <td>[[-2734.3799976399905]]</td>\n",
       "      <td>27.838275</td>\n",
       "    </tr>\n",
       "    <tr>\n",
       "      <th>7</th>\n",
       "      <td>{'x000': 1.0, 'x001': 1.0, 'x002': 1.0, 'x003'...</td>\n",
       "      <td>[[0.23815727129389416]]</td>\n",
       "      <td>[[-2745.6570641743638]]</td>\n",
       "      <td>28.630437</td>\n",
       "    </tr>\n",
       "    <tr>\n",
       "      <th>8</th>\n",
       "      <td>{'x000': 1.0, 'x001': 1.0, 'x002': 1.0, 'x003'...</td>\n",
       "      <td>[[0.23682672766841825]]</td>\n",
       "      <td>[[-2754.862048836]]</td>\n",
       "      <td>25.132007</td>\n",
       "    </tr>\n",
       "    <tr>\n",
       "      <th>9</th>\n",
       "      <td>{'x000': 1.0, 'x001': 1.0, 'x002': 1.0, 'x003'...</td>\n",
       "      <td>[[0.2381278887455801]]</td>\n",
       "      <td>[[-2745.90382851486]]</td>\n",
       "      <td>25.268500</td>\n",
       "    </tr>\n",
       "  </tbody>\n",
       "</table>\n",
       "</div>"
      ],
      "text/plain": [
       "                                                   0                        1  \\\n",
       "0  {'x000': 1.0, 'x001': 1.0, 'x002': 1.0, 'x003'...   [[0.2377956402308241]]   \n",
       "1  {'x000': 1.0, 'x001': 1.0, 'x002': 1.0, 'x003'...  [[0.23765902188453675]]   \n",
       "2  {'x000': 1.0, 'x001': 1.0, 'x002': 1.0, 'x003'...  [[0.23679989892038203]]   \n",
       "3  {'x000': 1.0, 'x001': 1.0, 'x002': 1.0, 'x003'...   [[3629.4884093920978]]   \n",
       "4  {'x000': 1.0, 'x001': 1.0, 'x002': 1.0, 'x003'...  [[0.23755324780229875]]   \n",
       "5  {'x000': 1.0, 'x001': 1.0, 'x002': 1.0, 'x003'...    [[3965.607665524795]]   \n",
       "6  {'x000': 1.0, 'x001': 1.0, 'x002': 1.0, 'x003'...   [[0.2392645377805029]]   \n",
       "7  {'x000': 1.0, 'x001': 1.0, 'x002': 1.0, 'x003'...  [[0.23815727129389416]]   \n",
       "8  {'x000': 1.0, 'x001': 1.0, 'x002': 1.0, 'x003'...  [[0.23682672766841825]]   \n",
       "9  {'x000': 1.0, 'x001': 1.0, 'x002': 1.0, 'x003'...   [[0.2381278887455801]]   \n",
       "\n",
       "                         2          3  \n",
       "0   [[-2748.696281911276]]  24.076477  \n",
       "1  [[-2747.8456520694276]]  27.109627  \n",
       "2  [[-2755.0886302531653]]  25.525328  \n",
       "3    [[16519.68494195457]]  24.574142  \n",
       "4   [[-2750.735983323328]]  22.743500  \n",
       "5   [[16696.819734823657]]  27.236756  \n",
       "6  [[-2734.3799976399905]]  27.838275  \n",
       "7  [[-2745.6570641743638]]  28.630437  \n",
       "8      [[-2754.862048836]]  25.132007  \n",
       "9    [[-2745.90382851486]]  25.268500  "
      ]
     },
     "execution_count": 126,
     "metadata": {},
     "output_type": "execute_result"
    }
   ],
   "source": [
    "pd.DataFrame(dwave_8)"
   ]
  },
  {
   "cell_type": "code",
   "execution_count": 347,
   "id": "8e4ac1d7",
   "metadata": {},
   "outputs": [
    {
     "name": "stderr",
     "output_type": "stream",
     "text": [
      "C:\\Users\\user\\AppData\\Local\\Temp/ipykernel_18440/1075155408.py:13: DeprecationWarning: `np.float` is a deprecated alias for the builtin `float`. To silence this warning, use `float` by itself. Doing this will not modify any behavior and is safe. If you specifically wanted the numpy scalar type, use `np.float64` here.\n",
      "Deprecated in NumPy 1.20; for more details and guidance: https://numpy.org/devdocs/release/1.20.0-notes.html#deprecations\n",
      "  mse_r_8 = pd.DataFrame(random_8).iloc[:,[0]].astype(np.float)\n",
      "C:\\Users\\user\\AppData\\Local\\Temp/ipykernel_18440/1075155408.py:14: DeprecationWarning: `np.float` is a deprecated alias for the builtin `float`. To silence this warning, use `float` by itself. Doing this will not modify any behavior and is safe. If you specifically wanted the numpy scalar type, use `np.float64` here.\n",
      "Deprecated in NumPy 1.20; for more details and guidance: https://numpy.org/devdocs/release/1.20.0-notes.html#deprecations\n",
      "  aic_r_8 = pd.DataFrame(random_8).iloc[:,[1]].astype(np.float)\n",
      "C:\\Users\\user\\AppData\\Local\\Temp/ipykernel_18440/1075155408.py:15: DeprecationWarning: `np.float` is a deprecated alias for the builtin `float`. To silence this warning, use `float` by itself. Doing this will not modify any behavior and is safe. If you specifically wanted the numpy scalar type, use `np.float64` here.\n",
      "Deprecated in NumPy 1.20; for more details and guidance: https://numpy.org/devdocs/release/1.20.0-notes.html#deprecations\n",
      "  cn_r_8 = pd.DataFrame(random_8).iloc[:,[2]].astype(np.float)\n",
      "C:\\Users\\user\\AppData\\Local\\Temp/ipykernel_18440/1075155408.py:16: DeprecationWarning: `np.float` is a deprecated alias for the builtin `float`. To silence this warning, use `float` by itself. Doing this will not modify any behavior and is safe. If you specifically wanted the numpy scalar type, use `np.float64` here.\n",
      "Deprecated in NumPy 1.20; for more details and guidance: https://numpy.org/devdocs/release/1.20.0-notes.html#deprecations\n",
      "  mse_8 = pd.DataFrame(dwave_8).iloc[:,[1]].astype(np.float)\n",
      "C:\\Users\\user\\AppData\\Local\\Temp/ipykernel_18440/1075155408.py:17: DeprecationWarning: `np.float` is a deprecated alias for the builtin `float`. To silence this warning, use `float` by itself. Doing this will not modify any behavior and is safe. If you specifically wanted the numpy scalar type, use `np.float64` here.\n",
      "Deprecated in NumPy 1.20; for more details and guidance: https://numpy.org/devdocs/release/1.20.0-notes.html#deprecations\n",
      "  aic_8 = pd.DataFrame(dwave_8).iloc[:,[2]].astype(np.float)\n",
      "C:\\Users\\user\\AppData\\Local\\Temp/ipykernel_18440/1075155408.py:18: DeprecationWarning: `np.float` is a deprecated alias for the builtin `float`. To silence this warning, use `float` by itself. Doing this will not modify any behavior and is safe. If you specifically wanted the numpy scalar type, use `np.float64` here.\n",
      "Deprecated in NumPy 1.20; for more details and guidance: https://numpy.org/devdocs/release/1.20.0-notes.html#deprecations\n",
      "  cn_8 = pd.DataFrame(dwave_8).iloc[:,[3]].astype(np.float)\n"
     ]
    }
   ],
   "source": [
    "# 데이터 저장\n",
    "\n",
    "data_x_8=pd.DataFrame(x8)\n",
    "data_y_8=pd.DataFrame(y8)\n",
    "data_x_8.to_excel('data_x8.xlsx')\n",
    "data_y_8.to_excel('data_y8.xlsx')\n",
    "pd.DataFrame(full_8).to_excel('data_x8_full.xlsx')\n",
    "pd.DataFrame(true_8).to_excel('data_x8_true.xlsx')\n",
    "pd.DataFrame(random_8).to_excel('data_x8_random.xlsx')\n",
    "pd.DataFrame(dwave_8).to_excel('data_x8_dwave.xlsx')\n",
    "\n",
    "# 그래프 만들기\n",
    "mse_r_8 = pd.DataFrame(random_8).iloc[:,[0]].astype(np.float)\n",
    "aic_r_8 = pd.DataFrame(random_8).iloc[:,[1]].astype(np.float)\n",
    "cn_r_8 = pd.DataFrame(random_8).iloc[:,[2]].astype(np.float)\n",
    "mse_8 = pd.DataFrame(dwave_8).iloc[:,[1]].astype(np.float)\n",
    "aic_8 = pd.DataFrame(dwave_8).iloc[:,[2]].astype(np.float)\n",
    "cn_8 = pd.DataFrame(dwave_8).iloc[:,[3]].astype(np.float)"
   ]
  },
  {
   "cell_type": "code",
   "execution_count": null,
   "id": "3ee86944",
   "metadata": {},
   "outputs": [],
   "source": []
  },
  {
   "cell_type": "code",
   "execution_count": null,
   "id": "bd2e044d",
   "metadata": {},
   "outputs": [],
   "source": []
  },
  {
   "cell_type": "code",
   "execution_count": 121,
   "id": "6f0ceb96",
   "metadata": {},
   "outputs": [
    {
     "ename": "SolverFailureError",
     "evalue": "Problem not accepted because user rabbitshell@yonsei.ac.kr has insufficient remaining solver access time in project DEV",
     "output_type": "error",
     "traceback": [
      "\u001b[1;31m---------------------------------------------------------------------------\u001b[0m",
      "\u001b[1;31mSolverFailureError\u001b[0m                        Traceback (most recent call last)",
      "\u001b[1;32m~\\AppData\\Local\\Temp/ipykernel_18440/806272624.py\u001b[0m in \u001b[0;36m<module>\u001b[1;34m\u001b[0m\n\u001b[0;32m      8\u001b[0m \u001b[0mdwave_9\u001b[0m\u001b[1;33m=\u001b[0m\u001b[1;33m[\u001b[0m\u001b[1;33m]\u001b[0m\u001b[1;33m\u001b[0m\u001b[1;33m\u001b[0m\u001b[0m\n\u001b[0;32m      9\u001b[0m \u001b[1;32mfor\u001b[0m \u001b[0mi\u001b[0m \u001b[1;32min\u001b[0m \u001b[0mrange\u001b[0m\u001b[1;33m(\u001b[0m\u001b[1;36m10\u001b[0m\u001b[1;33m)\u001b[0m\u001b[1;33m:\u001b[0m\u001b[1;33m\u001b[0m\u001b[1;33m\u001b[0m\u001b[0m\n\u001b[1;32m---> 10\u001b[1;33m     \u001b[0mdwave_9\u001b[0m\u001b[1;33m.\u001b[0m\u001b[0mappend\u001b[0m\u001b[1;33m(\u001b[0m\u001b[0mdwave\u001b[0m\u001b[1;33m(\u001b[0m\u001b[0mx9\u001b[0m\u001b[1;33m,\u001b[0m\u001b[0my9\u001b[0m\u001b[1;33m)\u001b[0m\u001b[1;33m)\u001b[0m\u001b[1;33m\u001b[0m\u001b[1;33m\u001b[0m\u001b[0m\n\u001b[0m",
      "\u001b[1;32m~\\AppData\\Local\\Temp/ipykernel_18440/448362804.py\u001b[0m in \u001b[0;36mdwave\u001b[1;34m(x, y)\u001b[0m\n\u001b[0;32m     41\u001b[0m     \u001b[0msampleset\u001b[0m \u001b[1;33m=\u001b[0m \u001b[0msampler\u001b[0m\u001b[1;33m.\u001b[0m\u001b[0msample_cqm\u001b[0m\u001b[1;33m(\u001b[0m\u001b[0mcqm\u001b[0m\u001b[1;33m)\u001b[0m\u001b[1;33m\u001b[0m\u001b[1;33m\u001b[0m\u001b[0m\n\u001b[0;32m     42\u001b[0m \u001b[1;33m\u001b[0m\u001b[0m\n\u001b[1;32m---> 43\u001b[1;33m     \u001b[0mresult\u001b[0m \u001b[1;33m=\u001b[0m \u001b[0msampleset\u001b[0m\u001b[1;33m.\u001b[0m\u001b[0mfirst\u001b[0m\u001b[1;33m[\u001b[0m\u001b[1;36m0\u001b[0m\u001b[1;33m]\u001b[0m\u001b[1;33m\u001b[0m\u001b[1;33m\u001b[0m\u001b[0m\n\u001b[0m\u001b[0;32m     44\u001b[0m     \u001b[0mresult_list\u001b[0m\u001b[1;33m=\u001b[0m\u001b[0mlist\u001b[0m\u001b[1;33m(\u001b[0m\u001b[0mzip\u001b[0m\u001b[1;33m(\u001b[0m\u001b[0mresult\u001b[0m\u001b[1;33m.\u001b[0m\u001b[0mkeys\u001b[0m\u001b[1;33m(\u001b[0m\u001b[1;33m)\u001b[0m\u001b[1;33m,\u001b[0m \u001b[0mresult\u001b[0m\u001b[1;33m.\u001b[0m\u001b[0mvalues\u001b[0m\u001b[1;33m(\u001b[0m\u001b[1;33m)\u001b[0m\u001b[1;33m)\u001b[0m\u001b[1;33m)\u001b[0m\u001b[1;33m\u001b[0m\u001b[1;33m\u001b[0m\u001b[0m\n\u001b[0;32m     45\u001b[0m \u001b[1;33m\u001b[0m\u001b[0m\n",
      "\u001b[1;32m~\\anaconda3\\lib\\site-packages\\dimod\\sampleset.py\u001b[0m in \u001b[0;36mfirst\u001b[1;34m(self)\u001b[0m\n\u001b[0;32m   1024\u001b[0m         \"\"\"\n\u001b[0;32m   1025\u001b[0m         \u001b[1;32mtry\u001b[0m\u001b[1;33m:\u001b[0m\u001b[1;33m\u001b[0m\u001b[1;33m\u001b[0m\u001b[0m\n\u001b[1;32m-> 1026\u001b[1;33m             \u001b[1;32mreturn\u001b[0m \u001b[0mnext\u001b[0m\u001b[1;33m(\u001b[0m\u001b[0mself\u001b[0m\u001b[1;33m.\u001b[0m\u001b[0mdata\u001b[0m\u001b[1;33m(\u001b[0m\u001b[0msorted_by\u001b[0m\u001b[1;33m=\u001b[0m\u001b[1;34m'energy'\u001b[0m\u001b[1;33m,\u001b[0m \u001b[0mname\u001b[0m\u001b[1;33m=\u001b[0m\u001b[1;34m'Sample'\u001b[0m\u001b[1;33m)\u001b[0m\u001b[1;33m)\u001b[0m\u001b[1;33m\u001b[0m\u001b[1;33m\u001b[0m\u001b[0m\n\u001b[0m\u001b[0;32m   1027\u001b[0m         \u001b[1;32mexcept\u001b[0m \u001b[0mStopIteration\u001b[0m\u001b[1;33m:\u001b[0m\u001b[1;33m\u001b[0m\u001b[1;33m\u001b[0m\u001b[0m\n\u001b[0;32m   1028\u001b[0m             \u001b[1;32mraise\u001b[0m \u001b[0mValueError\u001b[0m\u001b[1;33m(\u001b[0m\u001b[1;34m'{} is empty'\u001b[0m\u001b[1;33m.\u001b[0m\u001b[0mformat\u001b[0m\u001b[1;33m(\u001b[0m\u001b[0mself\u001b[0m\u001b[1;33m.\u001b[0m\u001b[0m__class__\u001b[0m\u001b[1;33m.\u001b[0m\u001b[0m__name__\u001b[0m\u001b[1;33m)\u001b[0m\u001b[1;33m)\u001b[0m\u001b[1;33m\u001b[0m\u001b[1;33m\u001b[0m\u001b[0m\n",
      "\u001b[1;32m~\\anaconda3\\lib\\site-packages\\dimod\\sampleset.py\u001b[0m in \u001b[0;36mdata\u001b[1;34m(self, fields, sorted_by, name, reverse, sample_dict_cast, index)\u001b[0m\n\u001b[0;32m   1216\u001b[0m \u001b[1;33m\u001b[0m\u001b[0m\n\u001b[0;32m   1217\u001b[0m         \"\"\"\n\u001b[1;32m-> 1218\u001b[1;33m         \u001b[0mrecord\u001b[0m \u001b[1;33m=\u001b[0m \u001b[0mself\u001b[0m\u001b[1;33m.\u001b[0m\u001b[0mrecord\u001b[0m\u001b[1;33m\u001b[0m\u001b[1;33m\u001b[0m\u001b[0m\n\u001b[0m\u001b[0;32m   1219\u001b[0m \u001b[1;33m\u001b[0m\u001b[0m\n\u001b[0;32m   1220\u001b[0m         \u001b[1;32mif\u001b[0m \u001b[0mfields\u001b[0m \u001b[1;32mis\u001b[0m \u001b[1;32mNone\u001b[0m\u001b[1;33m:\u001b[0m\u001b[1;33m\u001b[0m\u001b[1;33m\u001b[0m\u001b[0m\n",
      "\u001b[1;32m~\\anaconda3\\lib\\site-packages\\dimod\\sampleset.py\u001b[0m in \u001b[0;36mrecord\u001b[1;34m(self)\u001b[0m\n\u001b[0;32m   1065\u001b[0m \u001b[1;33m\u001b[0m\u001b[0m\n\u001b[0;32m   1066\u001b[0m         \"\"\"\n\u001b[1;32m-> 1067\u001b[1;33m         \u001b[0mself\u001b[0m\u001b[1;33m.\u001b[0m\u001b[0mresolve\u001b[0m\u001b[1;33m(\u001b[0m\u001b[1;33m)\u001b[0m\u001b[1;33m\u001b[0m\u001b[1;33m\u001b[0m\u001b[0m\n\u001b[0m\u001b[0;32m   1068\u001b[0m         \u001b[1;32mreturn\u001b[0m \u001b[0mself\u001b[0m\u001b[1;33m.\u001b[0m\u001b[0m_record\u001b[0m\u001b[1;33m\u001b[0m\u001b[1;33m\u001b[0m\u001b[0m\n\u001b[0;32m   1069\u001b[0m \u001b[1;33m\u001b[0m\u001b[0m\n",
      "\u001b[1;32m~\\anaconda3\\lib\\site-packages\\dimod\\sampleset.py\u001b[0m in \u001b[0;36mresolve\u001b[1;34m(self)\u001b[0m\n\u001b[0;32m   1414\u001b[0m         \u001b[1;31m# if it doesn't have the attribute then it is already resolved\u001b[0m\u001b[1;33m\u001b[0m\u001b[1;33m\u001b[0m\u001b[0m\n\u001b[0;32m   1415\u001b[0m         \u001b[1;32mif\u001b[0m \u001b[0mhasattr\u001b[0m\u001b[1;33m(\u001b[0m\u001b[0mself\u001b[0m\u001b[1;33m,\u001b[0m \u001b[1;34m'_future'\u001b[0m\u001b[1;33m)\u001b[0m\u001b[1;33m:\u001b[0m\u001b[1;33m\u001b[0m\u001b[1;33m\u001b[0m\u001b[0m\n\u001b[1;32m-> 1416\u001b[1;33m             \u001b[0msamples\u001b[0m \u001b[1;33m=\u001b[0m \u001b[0mself\u001b[0m\u001b[1;33m.\u001b[0m\u001b[0m_result_hook\u001b[0m\u001b[1;33m(\u001b[0m\u001b[0mself\u001b[0m\u001b[1;33m.\u001b[0m\u001b[0m_future\u001b[0m\u001b[1;33m)\u001b[0m\u001b[1;33m\u001b[0m\u001b[1;33m\u001b[0m\u001b[0m\n\u001b[0m\u001b[0;32m   1417\u001b[0m             \u001b[0mself\u001b[0m\u001b[1;33m.\u001b[0m\u001b[0m__init__\u001b[0m\u001b[1;33m(\u001b[0m\u001b[0msamples\u001b[0m\u001b[1;33m.\u001b[0m\u001b[0mrecord\u001b[0m\u001b[1;33m,\u001b[0m \u001b[0msamples\u001b[0m\u001b[1;33m.\u001b[0m\u001b[0mvariables\u001b[0m\u001b[1;33m,\u001b[0m \u001b[0msamples\u001b[0m\u001b[1;33m.\u001b[0m\u001b[0minfo\u001b[0m\u001b[1;33m,\u001b[0m \u001b[0msamples\u001b[0m\u001b[1;33m.\u001b[0m\u001b[0mvartype\u001b[0m\u001b[1;33m)\u001b[0m\u001b[1;33m\u001b[0m\u001b[1;33m\u001b[0m\u001b[0m\n\u001b[0;32m   1418\u001b[0m             \u001b[1;32mdel\u001b[0m \u001b[0mself\u001b[0m\u001b[1;33m.\u001b[0m\u001b[0m_future\u001b[0m\u001b[1;33m\u001b[0m\u001b[1;33m\u001b[0m\u001b[0m\n",
      "\u001b[1;32m~\\anaconda3\\lib\\site-packages\\dwave\\cloud\\computation.py\u001b[0m in \u001b[0;36m<lambda>\u001b[1;34m(f)\u001b[0m\n\u001b[0;32m    821\u001b[0m \u001b[1;33m\u001b[0m\u001b[0m\n\u001b[0;32m    822\u001b[0m         self._sampleset = sampleset = dimod.SampleSet.from_future(\n\u001b[1;32m--> 823\u001b[1;33m             self, lambda f: f.wait_sampleset())\n\u001b[0m\u001b[0;32m    824\u001b[0m \u001b[1;33m\u001b[0m\u001b[0m\n\u001b[0;32m    825\u001b[0m         \u001b[1;31m# propagate id to sampleset as well\u001b[0m\u001b[1;33m\u001b[0m\u001b[1;33m\u001b[0m\u001b[0m\n",
      "\u001b[1;32m~\\anaconda3\\lib\\site-packages\\dwave\\cloud\\computation.py\u001b[0m in \u001b[0;36mwait_sampleset\u001b[1;34m(self)\u001b[0m\n\u001b[0;32m    753\u001b[0m \u001b[1;33m\u001b[0m\u001b[0m\n\u001b[0;32m    754\u001b[0m         \u001b[1;31m# blocking result get\u001b[0m\u001b[1;33m\u001b[0m\u001b[1;33m\u001b[0m\u001b[0m\n\u001b[1;32m--> 755\u001b[1;33m         \u001b[0mresult\u001b[0m \u001b[1;33m=\u001b[0m \u001b[0mself\u001b[0m\u001b[1;33m.\u001b[0m\u001b[0m_load_result\u001b[0m\u001b[1;33m(\u001b[0m\u001b[1;33m)\u001b[0m\u001b[1;33m\u001b[0m\u001b[1;33m\u001b[0m\u001b[0m\n\u001b[0m\u001b[0;32m    756\u001b[0m \u001b[1;33m\u001b[0m\u001b[0m\n\u001b[0;32m    757\u001b[0m         \u001b[1;31m# common problem info: id/label\u001b[0m\u001b[1;33m\u001b[0m\u001b[1;33m\u001b[0m\u001b[0m\n",
      "\u001b[1;32m~\\anaconda3\\lib\\site-packages\\dwave\\cloud\\computation.py\u001b[0m in \u001b[0;36m_load_result\u001b[1;34m(self)\u001b[0m\n\u001b[0;32m    891\u001b[0m             \u001b[1;31m# Check for other error conditions\u001b[0m\u001b[1;33m\u001b[0m\u001b[1;33m\u001b[0m\u001b[0m\n\u001b[0;32m    892\u001b[0m             \u001b[1;32mif\u001b[0m \u001b[0mself\u001b[0m\u001b[1;33m.\u001b[0m\u001b[0m_exception\u001b[0m \u001b[1;32mis\u001b[0m \u001b[1;32mnot\u001b[0m \u001b[1;32mNone\u001b[0m\u001b[1;33m:\u001b[0m\u001b[1;33m\u001b[0m\u001b[1;33m\u001b[0m\u001b[0m\n\u001b[1;32m--> 893\u001b[1;33m                 \u001b[1;32mraise\u001b[0m \u001b[0mself\u001b[0m\u001b[1;33m.\u001b[0m\u001b[0m_exception\u001b[0m\u001b[1;33m\u001b[0m\u001b[1;33m\u001b[0m\u001b[0m\n\u001b[0m\u001b[0;32m    894\u001b[0m \u001b[1;33m\u001b[0m\u001b[0m\n\u001b[0;32m    895\u001b[0m             \u001b[1;31m# If someone else took care of this while we were waiting\u001b[0m\u001b[1;33m\u001b[0m\u001b[1;33m\u001b[0m\u001b[0m\n",
      "\u001b[1;32m~\\anaconda3\\lib\\site-packages\\dwave\\cloud\\client\\base.py\u001b[0m in \u001b[0;36m_handle_problem_status\u001b[1;34m(self, message, future)\u001b[0m\n\u001b[0;32m   1458\u001b[0m                     \u001b[1;32mraise\u001b[0m \u001b[0mSolverOfflineError\u001b[0m\u001b[1;33m(\u001b[0m\u001b[0merrmsg\u001b[0m\u001b[1;33m)\u001b[0m\u001b[1;33m\u001b[0m\u001b[1;33m\u001b[0m\u001b[0m\n\u001b[0;32m   1459\u001b[0m                 \u001b[1;32melse\u001b[0m\u001b[1;33m:\u001b[0m\u001b[1;33m\u001b[0m\u001b[1;33m\u001b[0m\u001b[0m\n\u001b[1;32m-> 1460\u001b[1;33m                     \u001b[1;32mraise\u001b[0m \u001b[0mSolverFailureError\u001b[0m\u001b[1;33m(\u001b[0m\u001b[0merrmsg\u001b[0m\u001b[1;33m)\u001b[0m\u001b[1;33m\u001b[0m\u001b[1;33m\u001b[0m\u001b[0m\n\u001b[0m\u001b[0;32m   1461\u001b[0m \u001b[1;33m\u001b[0m\u001b[0m\n\u001b[0;32m   1462\u001b[0m         \u001b[1;32mexcept\u001b[0m \u001b[0mException\u001b[0m \u001b[1;32mas\u001b[0m \u001b[0mexc\u001b[0m\u001b[1;33m:\u001b[0m\u001b[1;33m\u001b[0m\u001b[1;33m\u001b[0m\u001b[0m\n",
      "\u001b[1;31mSolverFailureError\u001b[0m: Problem not accepted because user rabbitshell@yonsei.ac.kr has insufficient remaining solver access time in project DEV"
     ]
    }
   ],
   "source": [
    "#### Data 9\n",
    "x9,y9 = kqc_custom.generate_dependent_sample(1000,200,beta_coef=[10,10,10,10,10,10,10,10,10,10],epsilon = 1)\n",
    "full_9 = full(x9,y9)\n",
    "true_9 = full(pd.DataFrame(x9).iloc[:,[0,1,2,3,4,5,6,7,8,9]],y9)\n",
    "random_9=[]\n",
    "for i in range(10):\n",
    "    random_9.append(random(x9,y9))\n",
    "dwave_9=[]\n",
    "for i in range(10):\n",
    "    dwave_9.append(dwave(x9,y9))"
   ]
  },
  {
   "cell_type": "code",
   "execution_count": null,
   "id": "3793da89",
   "metadata": {},
   "outputs": [],
   "source": [
    "#### Data 10\n",
    "x10,y10 = kqc_custom.generate_dependent_sample(1000,200,beta_coef=[10,10,10,10,10,10,10,10,10,10],epsilon = 2)\n",
    "full_10 = full(x10,y10)\n",
    "true_10 = full(pd.DataFrame(x10).iloc[:,[0,1,2,3,4,5,6,7,8,9]],y10)\n",
    "random_10=[]\n",
    "for i in range(10):\n",
    "    random_10.append(random(x10,y10))\n",
    "dwave_10=[]\n",
    "for i in range(10):\n",
    "    dwave_10.append(dwave(x10,y10))"
   ]
  },
  {
   "cell_type": "code",
   "execution_count": null,
   "id": "c840cb5a",
   "metadata": {},
   "outputs": [],
   "source": [
    "#### Data 11\n",
    "x11,y11 = kqc_custom.generate_dependent_sample(1000,200,beta_coef=[10,10,10,10,10,10,10,10,10,10,10,10,10,10,10,10,10,10,10,10],epsilon = 0.5)\n",
    "full_11 = full(x11,y11)\n",
    "true_11 = full(pd.DataFrame(x11).iloc[:,[0,1,2,3,4,5,6,7,8,9,10,11,12,13,14,15,16,17,18,19]],y11)\n",
    "random_11=[]\n",
    "for i in range(10):\n",
    "    random_11.append(random(x11,y11))\n",
    "dwave_11=[]\n",
    "for i in range(10):\n",
    "    dwave_11.append(dwave(x11,y11))"
   ]
  },
  {
   "cell_type": "code",
   "execution_count": null,
   "id": "4223390a",
   "metadata": {},
   "outputs": [],
   "source": [
    "#### Data 12\n",
    "x12,y12 = kqc_custom.generate_dependent_sample(1500,200,beta_coef=[10,10,10,10,10,10,10,10,10,10,10,10,10,10,10,10,10,10,10,10],epsilon = 0.5)\n",
    "full_12 = full(x12,y12)\n",
    "true_12 = full(pd.DataFrame(x12).iloc[:,[0,1,2,3,4,5,6,7,8,9,10,11,12,13,14,15,16,17,18,19]],y12)\n",
    "random_12=[]\n",
    "for i in range(10):\n",
    "    random_12.append(random(x12,y12))\n",
    "dwave_12=[]\n",
    "for i in range(10):\n",
    "    dwave_12.append(dwave(x12,y12))"
   ]
  },
  {
   "cell_type": "code",
   "execution_count": null,
   "id": "1513ee78",
   "metadata": {},
   "outputs": [],
   "source": [
    "#### Data 13\n",
    "x13,y13 = kqc_custom.generate_dependent_sample(500,200,beta_coef=[10,10,10,10,10,10,10,10,10,10,10,10,10,10,10,10,10,10,10,10],epsilon = 0.5)\n",
    "full_13 = full(x13,y13)\n",
    "true_13 = full(pd.DataFrame(x13).iloc[:,[0,1,2,3,4,5,6,7,8,9,10,11,12,13,14,15,16,17,18,19]],y13)\n",
    "random_13=[]\n",
    "for i in range(10):\n",
    "    random_12.append(random(x13,y13))\n",
    "dwave_13=[]\n",
    "for i in range(10):\n",
    "    dwave_13.append(dwave(x13,y13))"
   ]
  }
 ],
 "metadata": {
  "kernelspec": {
   "display_name": "Python 3 (ipykernel)",
   "language": "python",
   "name": "python3"
  },
  "language_info": {
   "codemirror_mode": {
    "name": "ipython",
    "version": 3
   },
   "file_extension": ".py",
   "mimetype": "text/x-python",
   "name": "python",
   "nbconvert_exporter": "python",
   "pygments_lexer": "ipython3",
   "version": "3.9.7"
  }
 },
 "nbformat": 4,
 "nbformat_minor": 5
}
